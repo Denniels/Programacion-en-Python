{
 "cells": [
  {
   "cell_type": "markdown",
   "metadata": {},
   "source": [
    "## Tipos de datos\n",
    "\n",
    "##### Son distintas formas de mostrar información en el lenguaje, y los tipos de datos nativos en\n",
    "##### Python son los siguientes:\n",
    "* En Python existen principalmente 2 tipos de datos para representar números: los integers y\n",
    "* los float. \n"
   ]
  },
  {
   "cell_type": "code",
   "execution_count": 1,
   "metadata": {},
   "outputs": [
    {
     "name": "stdout",
     "output_type": "stream",
     "text": [
      "27\n",
      "-5\n",
      "0\n",
      "10\n",
      "24\n",
      "32\n"
     ]
    }
   ],
   "source": [
    "# Estos son valores integer\n",
    "print(27)\n",
    "print(-5)\n",
    "print(0)\n",
    "print(3 + 7)\n",
    "print(31 - 7)\n",
    "print(4 * 8)"
   ]
  },
  {
   "cell_type": "code",
   "execution_count": 2,
   "metadata": {},
   "outputs": [
    {
     "name": "stdout",
     "output_type": "stream",
     "text": [
      "27.6\n",
      "-5.9\n",
      "0.0\n",
      "10.656\n",
      "24.5\n",
      "34.0228\n",
      "1.1111111111111112\n"
     ]
    }
   ],
   "source": [
    "# Estos son valores float\n",
    "print(27.6)\n",
    "print(-5.9)\n",
    "print(0.0)\n",
    "print(3.2 + 7.456)\n",
    "print(31.5 - 7.0)\n",
    "print(4.190 * 8.12)\n",
    "print(9.0 / 8.1)\n"
   ]
  },
  {
   "cell_type": "markdown",
   "metadata": {},
   "source": [
    "* Además, es posible realizar operaciones matemáticas combinando integers y float de\n",
    "manera válida como se muestra a continuación:"
   ]
  },
  {
   "cell_type": "code",
   "execution_count": 3,
   "metadata": {},
   "outputs": [
    {
     "name": "stdout",
     "output_type": "stream",
     "text": [
      "15.5\n",
      "912.0\n"
     ]
    }
   ],
   "source": [
    "print(3.5 + 12)\n",
    "print(20 * 45.6)"
   ]
  },
  {
   "cell_type": "markdown",
   "metadata": {},
   "source": [
    "### Strings\n",
    "* Los strings son elementos encerrados entre comilla simple (‘) o comilla doble (“). Para\n",
    "* definirse como un string válido, la comilla al inicio y al final debe ser la misma.\n"
   ]
  },
  {
   "cell_type": "code",
   "execution_count": 8,
   "metadata": {},
   "outputs": [
    {
     "name": "stdout",
     "output_type": "stream",
     "text": [
      "hola\n",
      "150\n",
      "este es un texto más largo\n"
     ]
    }
   ],
   "source": [
    "# estos son valores string\n",
    "print('hola')\n",
    "print(\"150\")\n",
    "print('este es un texto más largo')"
   ]
  },
  {
   "cell_type": "markdown",
   "metadata": {},
   "source": [
    "### Concatenación\n",
    "* Si intentamos sumar dos strings obtendremos una concatenación. Hay que tener esto muy claro, ya que si confundimos el tipo de dato podemos obtener resultados no esperados:"
   ]
  },
  {
   "cell_type": "code",
   "execution_count": 9,
   "metadata": {},
   "outputs": [
    {
     "name": "stdout",
     "output_type": "stream",
     "text": [
      "CarlosSantana\n",
      "Carlos Santana\n"
     ]
    }
   ],
   "source": [
    "print(\"Carlos\" + \"Santana\") # CarlosSantana\n",
    "print(\"Carlos \" + \"Santana\") # Carlos Santana"
   ]
  },
  {
   "cell_type": "markdown",
   "metadata": {},
   "source": [
    "#### Ojo con operaciones de este tipo:"
   ]
  },
  {
   "cell_type": "code",
   "execution_count": 10,
   "metadata": {},
   "outputs": [
    {
     "name": "stdout",
     "output_type": "stream",
     "text": [
      "1523\n"
     ]
    }
   ],
   "source": [
    "print(\"15\" + \"23\") # esto resulta en 1523"
   ]
  },
  {
   "cell_type": "markdown",
   "metadata": {},
   "source": [
    "### Duplicación\n",
    "* Si intentamos multiplicar un string por un integer positivo, entonces este string se duplicará:\n"
   ]
  },
  {
   "cell_type": "code",
   "execution_count": 11,
   "metadata": {},
   "outputs": [
    {
     "name": "stdout",
     "output_type": "stream",
     "text": [
      "CarlosCarlosCarlos\n",
      "1212121212\n"
     ]
    }
   ],
   "source": [
    "print(3 * \"Carlos\") # CarlosCarlosCarlos\n",
    "print(5 * \"12\") # 1212121212"
   ]
  },
  {
   "cell_type": "markdown",
   "metadata": {},
   "source": [
    "### Métodos\n",
    "* Existen también algunas propiedades que son propias de un tipo de dato. Estas propiedades las llamaremos métodos y sólo son válidas para el tipo de dato en cuestión. En el caso de los strings hay varios métodos, algunos ejemplos de ellos son .count(), .upper() y .lower(). Es importante recalcar que estos al ser métodos del tipo string no son válidos para otrost ipos de datos, además cada tipo de dato puede tener sus propios métodos.\n"
   ]
  },
  {
   "cell_type": "code",
   "execution_count": 12,
   "metadata": {},
   "outputs": [
    {
     "name": "stdout",
     "output_type": "stream",
     "text": [
      "3\n"
     ]
    }
   ],
   "source": [
    "# count()\n",
    "print(\"Santana\".count(\"a\")) # entrega un 3 ya que el string tiene 3 \"a\""
   ]
  },
  {
   "cell_type": "code",
   "execution_count": 13,
   "metadata": {},
   "outputs": [
    {
     "name": "stdout",
     "output_type": "stream",
     "text": [
      "SANTANA\n"
     ]
    }
   ],
   "source": [
    "# uper()\n",
    "print(\"Santana\".upper()) # resulta en SANTANA"
   ]
  },
  {
   "cell_type": "code",
   "execution_count": 14,
   "metadata": {},
   "outputs": [
    {
     "name": "stdout",
     "output_type": "stream",
     "text": [
      "santana\n"
     ]
    }
   ],
   "source": [
    "# lower()\n",
    "print(\"Santana\".lower()) # resulta en santana"
   ]
  },
  {
   "cell_type": "code",
   "execution_count": 15,
   "metadata": {},
   "outputs": [
    {
     "name": "stdout",
     "output_type": "stream",
     "text": [
      "Carlos Santana\n"
     ]
    }
   ],
   "source": [
    "# title()\n",
    "print(\"carlos santana\".title()) # resulta en Carlos Santana"
   ]
  },
  {
   "cell_type": "code",
   "execution_count": 16,
   "metadata": {},
   "outputs": [
    {
     "name": "stdout",
     "output_type": "stream",
     "text": [
      "14\n"
     ]
    }
   ],
   "source": [
    "# len()\n",
    "print(len(\"Carlos Santana\")) # resulta en 14"
   ]
  },
  {
   "cell_type": "code",
   "execution_count": 18,
   "metadata": {},
   "outputs": [
    {
     "name": "stdout",
     "output_type": "stream",
     "text": [
      "a, b, c\n"
     ]
    }
   ],
   "source": [
    "# join()\n",
    "print(\", \".join([\"a\", \"b\", \"c\"]))"
   ]
  },
  {
   "cell_type": "code",
   "execution_count": 19,
   "metadata": {},
   "outputs": [
    {
     "name": "stdout",
     "output_type": "stream",
     "text": [
      "hola\n",
      "a\n",
      "todos\n"
     ]
    }
   ],
   "source": [
    "# Salto de linea\n",
    "print(\"hola\\na\\ntodos\")"
   ]
  },
  {
   "cell_type": "markdown",
   "metadata": {},
   "source": [
    "### Valores Booleanos\n",
    "* Son valores lógicos que pueden tomar sólo dos valores: True y False. Estos valores son el\n",
    "resultado de alguna prueba lógica o de una asignación directa; donde este tipo de dato se\n",
    "revisará en detalle al momento de aprender Control de Flujo.\n"
   ]
  },
  {
   "cell_type": "markdown",
   "metadata": {},
   "source": [
    "### Asignando un valor a una variable\n",
    "* Muchas veces nos interesa poder ir guardando el resultado de operaciones o almacenando\n",
    "valores para ser reutilizados en el futuro, para ello, se utiliza el concepto de variables.\n",
    "Podemos entender las variables como contenedores que pueden almacenar valores. Una\n",
    "variable se compone de:\n",
    "* Un nombre.\n",
    "* Un valor.\n",
    "* Dentro de las convenciones de Python, se estipula que el nombre de una variable comienza\n",
    "con minúscula, y si se requiere utilizar más de una palabra, éstas deben estar unidas por un\n",
    "guión bajo o underscore; a esto se le conoce como snake_case. "
   ]
  },
  {
   "cell_type": "code",
   "execution_count": 20,
   "metadata": {},
   "outputs": [
    {
     "name": "stdout",
     "output_type": "stream",
     "text": [
      "<class 'int'>\n",
      "<class 'float'>\n",
      "<class 'str'>\n"
     ]
    }
   ],
   "source": [
    "entero = 2\n",
    "decimal = -6.5\n",
    "texto = \"Hola Mundo\"\n",
    "print(type(entero)) # int\n",
    "print(type(decimal)) # float\n",
    "print(type(texto)) # str"
   ]
  },
  {
   "cell_type": "markdown",
   "metadata": {},
   "source": [
    "### Manipulando variables\n",
    "* Es posible trabajar con variables previamente definidas. Estas variables contendrán el valor\n",
    "asignado a lo largo de la ejecución de todo el código o hasta que este sea reasignado."
   ]
  },
  {
   "cell_type": "code",
   "execution_count": 21,
   "metadata": {},
   "outputs": [
    {
     "name": "stdout",
     "output_type": "stream",
     "text": [
      "3\n"
     ]
    }
   ],
   "source": [
    "# Ejemplos\n",
    "a = 2 # se asigna el valor 2 a la variable a\n",
    "a = a + 1 # se suma 1 al valor de a y se reasigna\n",
    "print(a) # se muestra el resultado final"
   ]
  },
  {
   "cell_type": "code",
   "execution_count": 22,
   "metadata": {},
   "outputs": [
    {
     "name": "stdout",
     "output_type": "stream",
     "text": [
      "Carlos Santana\n"
     ]
    }
   ],
   "source": [
    "nombre = \"Carlos\" # se asigna el valor Carlos a la variable nombre\n",
    "apellido = \"Santana\" # se asigna el valor Santana a la variable apellido\n",
    "print(nombre + \" \" + apellido) # se muestra el resultado final"
   ]
  },
  {
   "cell_type": "markdown",
   "metadata": {},
   "source": [
    "## Transformando los datos\n",
    "* Es importante conocer que cada tipo de dato poseerá una función que permite transformar\n",
    "un valor al tipo de dato indicado. Por ejemplo, int(variable) convertirá la variable en un\n",
    "entero. Análogamente bool(), str() y float() harán lo mismo.\n",
    "### Interpolación\n",
    "* Una acción muy importante y ampliamente utilizada al momento de trabajar con Strings es\n",
    "la interpolación.\n",
    "Es un mecanismo que nos permite introducir una variable, un dato o una operación válida de\n",
    "Python dentro un String. Para interpolar simplemente tenemos que introducir la variable (o\n",
    "dato) y estos serán agregados dentro de llaves {}:\n"
   ]
  },
  {
   "cell_type": "code",
   "execution_count": 23,
   "metadata": {},
   "outputs": [
    {
     "name": "stdout",
     "output_type": "stream",
     "text": [
      "Mi nombre es Carlos Santana\n"
     ]
    }
   ],
   "source": [
    "nombre = 'Carlos'\n",
    "apellido = 'Santana'\n",
    "# Interpolación\n",
    "print(\"Mi nombre es {} {}\".format(nombre, apellido))"
   ]
  },
  {
   "cell_type": "markdown",
   "metadata": {},
   "source": [
    "* Si bien este es un código válido en Python, se está desaconsejando su uso ya que desde\n",
    "Python 3.6 se introdujo el f-string."
   ]
  },
  {
   "cell_type": "code",
   "execution_count": null,
   "metadata": {},
   "outputs": [],
   "source": [
    "nombre = 'Carlos'\n",
    "apellido = 'Santana'\n",
    "# Interpolación\n",
    "print(f\"Mi nombre es {nombre} {apellido}\")"
   ]
  },
  {
   "cell_type": "markdown",
   "metadata": {},
   "source": [
    "* Como podemos observar, la sintaxis del f-string es mucho más intuitiva y más eficiente\n",
    "internamente en Python. Otra ventaja que tiene el f-string es que puede incluir código válido\n",
    "de Python:"
   ]
  },
  {
   "cell_type": "code",
   "execution_count": 26,
   "metadata": {},
   "outputs": [
    {
     "name": "stdout",
     "output_type": "stream",
     "text": [
      "Mi nombre es CarlosCarlosCarlos Santana y tengo 50.0 años\n"
     ]
    }
   ],
   "source": [
    "nombre = 'Carlos'\n",
    "apellido = 'Santana'\n",
    "# Interpolación\n",
    "print(f\"Mi nombre es {3*nombre} {apellido} y tengo {500 / 10} años\")"
   ]
  },
  {
   "cell_type": "markdown",
   "metadata": {},
   "source": [
    "### Precisión de Decimales\n",
    "* Una propiedad bastante cómoda que tiene el f-string es que permite controlar la precisión\n",
    "de los decimales de manera muy sencilla.\n"
   ]
  },
  {
   "cell_type": "code",
   "execution_count": 27,
   "metadata": {},
   "outputs": [
    {
     "name": "stdout",
     "output_type": "stream",
     "text": [
      "El resultado es 0.1111111111111111\n"
     ]
    }
   ],
   "source": [
    "# Operación que arroja varios decimales\n",
    "print(f'El resultado es {1/9}')"
   ]
  },
  {
   "cell_type": "code",
   "execution_count": 28,
   "metadata": {},
   "outputs": [
    {
     "name": "stdout",
     "output_type": "stream",
     "text": [
      "El resultado es 0.11\n"
     ]
    }
   ],
   "source": [
    "# Muestro sólo 2 decimales\n",
    "print(f'El resultado es {1/9:.2f}')"
   ]
  },
  {
   "cell_type": "markdown",
   "metadata": {},
   "source": [
    "## Ingresando datos de manera interactiva\n",
    "* Con frecuencia nuestros scripts necesitarán interactuar con el usuario, ya sea para\n",
    "seleccionar una opción de un menú o para simplemente ingresar un valor sobre el cuál\n",
    "nuestro script va a operar.\n",
    "Podemos capturar datos introducidos por un usuario ocupando la instrucción input. I\n",
    "\n",
    "### Ingresando datos con input\n",
    "* Al invocar input() la consola quedará bloqueada hasta que ingresemos una secuencia de\n",
    "caracteres y presionemos la tecla enter. Este valor puede almacenarse dentro de una\n",
    "variable y de esa manera ser utilizada en nuestro código:\n"
   ]
  },
  {
   "cell_type": "markdown",
   "metadata": {},
   "source": [
    "## Ejecución guiada 1\n",
    "#### Presentándome con Python\n",
    "* Un gran conferencista, que siempre tenía que presentarse ante el público que asistía a sus\n",
    "conferencias, debía siempre dar una pequeña reseña de su vida, para que lo pudieran\n",
    "conocer. Hacer esto cada vez, lo aburrió y decidió pedirte que pudieras automatizar esta\n",
    "tarea, ya que lo bueno de la programación es automatizar tareas que son tediosas o que son\n",
    "propensas a error. Para esto, el conferencista te muestra una presentación antigua de una\n",
    "sus conferencias y te solicita elaborar una solución que permita modificarla levemente pero\n",
    "de manera fácil y rápida:\n"
   ]
  },
  {
   "cell_type": "code",
   "execution_count": 29,
   "metadata": {},
   "outputs": [
    {
     "name": "stdout",
     "output_type": "stream",
     "text": [
      "\n",
      "Mi nombre es Daniel, tengo 37 años y me desempeño como CEO\n",
      "en Integral Service.\n",
      "Soy una persona Creativo, Apasionado y\n",
      "Visionario.\n",
      "Mi pasatiempo es Los videojuegos y me gustaría poder Comprarme una parcela y vivir tranquilo.\n"
     ]
    }
   ],
   "source": [
    "nombre = input('Ingrese su Nombre: ')\n",
    "edad = input('Ingrese Edad: ')\n",
    "ocupacion = input('Ingrese Ocupación: ')\n",
    "lugar = input('En dónde?: ')\n",
    "caracteristica_1 = input('Ingrese 3 características:\\n1. > ')\n",
    "caracteristica_2 = input('2. > ')\n",
    "caracteristica_3 = input('3. > ')\n",
    "pasatiempo = input('Cuál es tu pasatiempo: ')\n",
    "hacer = input('¿Que quieres hacer? ')\n",
    "\n",
    "print(f'''\n",
    "Mi nombre es {nombre}, tengo {edad} años y me desempeño como {ocupacion}\n",
    "en {lugar}.\n",
    "Soy una persona {caracteristica_1}, {caracteristica_2} y\n",
    "{caracteristica_3}.\n",
    "Mi pasatiempo es {pasatiempo} y me gustaría poder {hacer}.''')"
   ]
  },
  {
   "cell_type": "markdown",
   "metadata": {},
   "source": [
    "### Otros operadores Matemáticos\n",
    "* Ahora que tenemos un mayor entendimiento de cómo funciona el lenguaje Python, podemos\n",
    "definir formalmente los operadores nativos en Python, donde además de los operadores de\n",
    "+, -, *, y / podemos adicionar los siguientes:"
   ]
  },
  {
   "cell_type": "code",
   "execution_count": 30,
   "metadata": {},
   "outputs": [
    {
     "data": {
      "text/plain": [
       "1"
      ]
     },
     "execution_count": 30,
     "metadata": {},
     "output_type": "execute_result"
    }
   ],
   "source": [
    "2 ** 4 # Exponenciación/Potencia. Ej: 2 elevado a 4 es 16\n",
    "5 // 2 # División Entera. Ej: 5 dividido 2 es 2.\n",
    "5 / 2 # División con decimales. Ej: 5 dividido 2 es 2.5\n",
    "5 % 2 # Módulo. Ej: 5 Módulo 2 es 1. 1 es el resto de 5 // 2."
   ]
  },
  {
   "cell_type": "markdown",
   "metadata": {},
   "source": [
    "### Precedencia de operadores\n",
    "* Un concepto muy importante que debemos conocer es el de precedencia, dicho de otro\n",
    "modo, saber en qué orden se realiza un grupo de operaciones.\n",
    "##### Ejemplo de precedencia:\n",
    "* Por ejemplo, en la siguiente instrucción ¿cuál es el resultado?\n"
   ]
  },
  {
   "cell_type": "code",
   "execution_count": 31,
   "metadata": {},
   "outputs": [
    {
     "name": "stdout",
     "output_type": "stream",
     "text": [
      "0\n"
     ]
    }
   ],
   "source": [
    "x = 10\n",
    "y = 5\n",
    "z = 2\n",
    "print(x - y * z)"
   ]
  },
  {
   "cell_type": "markdown",
   "metadata": {},
   "source": [
    "\n",
    "### Operaciones y paréntesis\n",
    "* Al igual que en matemáticas, los paréntesis cambian el orden en que preceden las\n",
    "operaciones dando prioridad a las que estén dentro de los paréntesis."
   ]
  },
  {
   "cell_type": "code",
   "execution_count": 32,
   "metadata": {},
   "outputs": [
    {
     "name": "stdout",
     "output_type": "stream",
     "text": [
      "10\n"
     ]
    }
   ],
   "source": [
    "print((10 - 5) * 2)"
   ]
  },
  {
   "cell_type": "markdown",
   "metadata": {},
   "source": [
    "## Importar una librería\n",
    "* Las librerías son extensiones del lenguaje que añaden funcionalidades no disponibles en\n",
    "Python nativo. No es que Guido Van Rossum creó todo Python, él creó el core del lenguaje, y\n",
    "el resto ha sido creado por la comunidad abierta. Todos pueden contribuir con librerías que\n",
    "extiendan las funcionalidades que Python provee. Ahora bien, ¿cómo se trabaja con\n",
    "librerías?"
   ]
  },
  {
   "cell_type": "code",
   "execution_count": 34,
   "metadata": {},
   "outputs": [],
   "source": [
    "# esta es una librería que permite interactuar con el Sistema Operativo\n",
    "import os\n",
    "# añade más funcionalidades matemáticas\n",
    "import math"
   ]
  },
  {
   "cell_type": "markdown",
   "metadata": {},
   "source": [
    "* Normalmente las importaciones se definen al inicio de un código. Luego para utilizar una\n",
    "funcionalidad de dicha librería se usa la sintaxis: libreria.metodo():"
   ]
  },
  {
   "cell_type": "code",
   "execution_count": 35,
   "metadata": {},
   "outputs": [
    {
     "data": {
      "text/plain": [
       "1.4142135623730951"
      ]
     },
     "execution_count": 35,
     "metadata": {},
     "output_type": "execute_result"
    }
   ],
   "source": [
    "# entrega la ruta actual en la que me encuentro.\n",
    "os.getcwd()\n",
    "# raíz cuadrada de dos\n",
    "math.sqrt(2)"
   ]
  },
  {
   "cell_type": "markdown",
   "metadata": {},
   "source": [
    "* Existe una manera alternativa de llamar una función específica de una librería:"
   ]
  },
  {
   "cell_type": "code",
   "execution_count": 38,
   "metadata": {},
   "outputs": [
    {
     "data": {
      "text/plain": [
       "4"
      ]
     },
     "execution_count": 38,
     "metadata": {},
     "output_type": "execute_result"
    }
   ],
   "source": [
    "# importa sólo la función ceil\n",
    "from math import ceil\n",
    "# ceil aproxima al entero superior\n",
    "ceil(3.14)"
   ]
  }
 ],
 "metadata": {
  "kernelspec": {
   "display_name": "Python 3.10.5 64-bit",
   "language": "python",
   "name": "python3"
  },
  "language_info": {
   "codemirror_mode": {
    "name": "ipython",
    "version": 3
   },
   "file_extension": ".py",
   "mimetype": "text/x-python",
   "name": "python",
   "nbconvert_exporter": "python",
   "pygments_lexer": "ipython3",
   "version": "3.10.5"
  },
  "orig_nbformat": 4,
  "vscode": {
   "interpreter": {
    "hash": "5fe23d4cdea1a1fdeea398f38169f58ea6e36b10f84ee4017a8f0fee693ee786"
   }
  }
 },
 "nbformat": 4,
 "nbformat_minor": 2
}
