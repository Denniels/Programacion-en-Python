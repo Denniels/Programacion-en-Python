{
 "cells": [
  {
   "cell_type": "markdown",
   "metadata": {},
   "source": [
    "## Diccionarios\n",
    "* Los diccionarios son una estructura de datos compuesta por pares de clave:valor, donde\n",
    "cada clave se asocia con un elemento del diccionario, donde como toda estructura de datos,\n",
    "permiten almacenar una gran cantidad de datos en una sola variable.\n",
    "* Reciben este nombre porque se leen igual que uno de la vida real, ya que en un diccionario\n",
    "buscamos una palabra y esta nos lleva a la definición: la clave es equivalente a la palabra y\n",
    "el valor es equivalente a su definición.\n"
   ]
  },
  {
   "cell_type": "markdown",
   "metadata": {},
   "source": [
    "## Lista versus Diccionario\n",
    "* Las listas y los diccionarios son estructuras bastante similares, con la diferencia de que para\n",
    "acceder a los elementos de una lista, se hace a través de la posición o el índice asociado al\n",
    "elemento, mientras que en un diccionario, se hace por medio de la clave (o llave).\n",
    "* La otra diferencia es que en una lista, los índices se generan automáticamente para cada\n",
    "elemento, mientras que las claves de un diccionario no se generan automáticamente, sino\n",
    "que son definidas explícitamente al crear el diccionario o al asignar un nuevo elemento a la\n",
    "estructura.\n",
    "* Una última diferencia, es que la lista es un elemento ordenado donde el orden lo entrega el\n",
    "índice, en cambio, en un diccionario es un elemento no ordenado, no hay un elemento que va\n",
    "primero, segundo o último. La única manera de acceder a dicho elemento es mediante su\n",
    "clave.\n",
    "* Por último, las claves del diccionario pueden ser un string, un número, o incluso un booleano,\n",
    "pero con frecuencia se utilizan los strings."
   ]
  },
  {
   "cell_type": "code",
   "execution_count": 1,
   "metadata": {},
   "outputs": [
    {
     "data": {
      "text/plain": [
       "'hola'"
      ]
     },
     "execution_count": 1,
     "metadata": {},
     "output_type": "execute_result"
    }
   ],
   "source": [
    "# En una lista usamos la posición para acceder a un elemento, y los índices se generan en forma implícita\n",
    "lista = [25, 31, \"hola\"]\n",
    "lista[2] # \"hola\"\n",
    "# En un diccionario usamos la clave, y se deben definir de forma explícita\n",
    "diccionario = {\"a\": 25, \"b\": 31, \"c\": \"hola\"}\n",
    "diccionario[\"c\"] # \"hola\"\n"
   ]
  },
  {
   "cell_type": "markdown",
   "metadata": {},
   "source": [
    "### Crear un diccionario\n",
    "* En Python, un diccionario (vacío) se define con llaves: {}. Cada par de clave y valor se\n",
    "asocia mediante :, en la forma clave: valor.\n"
   ]
  },
  {
   "cell_type": "code",
   "execution_count": 3,
   "metadata": {},
   "outputs": [],
   "source": [
    "notas = {\"Camila\": 7, \"Antonio\": 5, \"Felipe\": 6, \"Antonia\": 7}"
   ]
  },
  {
   "cell_type": "markdown",
   "metadata": {},
   "source": [
    "* Si al momento de definir un diccionario tenemos muchas llaves, podemos definirlo en\n",
    "múltiples líneas para facilitar la lectura de código."
   ]
  },
  {
   "cell_type": "code",
   "execution_count": 4,
   "metadata": {},
   "outputs": [],
   "source": [
    "notas = {\n",
    "\"Camila\": 7,\n",
    "\"Antonio\": 5,\n",
    "\"Felipe\": 6,\n",
    "\"Daniela\": 5,\n",
    "\"Vicente\": 7,\n",
    "}\n"
   ]
  },
  {
   "cell_type": "markdown",
   "metadata": {},
   "source": [
    "### Acceder a un elemento dentro de un diccionario\n",
    "* Se accede a un elemento específico utilizando la clave de ese valor, donde necesariamente\n",
    "se debe utilizar la misma clave en la que está almacenado el elemento, sino podríamos\n",
    "recibir un valor no deseado, o incluso tener un error si la clave no existe"
   ]
  },
  {
   "cell_type": "code",
   "execution_count": 5,
   "metadata": {},
   "outputs": [
    {
     "ename": "KeyError",
     "evalue": "'felipe'",
     "output_type": "error",
     "traceback": [
      "\u001b[1;31m---------------------------------------------------------------------------\u001b[0m",
      "\u001b[1;31mKeyError\u001b[0m                                  Traceback (most recent call last)",
      "\u001b[1;32mc:\\Users\\dmard\\Documents\\GitHub\\Programacion-en-Python\\Notebook\\Diccionarios.ipynb Cell 9'\u001b[0m in \u001b[0;36m<cell line: 2>\u001b[1;34m()\u001b[0m\n\u001b[0;32m      <a href='vscode-notebook-cell:/c%3A/Users/dmard/Documents/GitHub/Programacion-en-Python/Notebook/Diccionarios.ipynb#ch0000008?line=0'>1</a>\u001b[0m notas[\u001b[39m\"\u001b[39m\u001b[39mFelipe\u001b[39m\u001b[39m\"\u001b[39m] \u001b[39m# 6\u001b[39;00m\n\u001b[1;32m----> <a href='vscode-notebook-cell:/c%3A/Users/dmard/Documents/GitHub/Programacion-en-Python/Notebook/Diccionarios.ipynb#ch0000008?line=1'>2</a>\u001b[0m notas[\u001b[39m\"\u001b[39;49m\u001b[39mfelipe\u001b[39;49m\u001b[39m\"\u001b[39;49m]\n",
      "\u001b[1;31mKeyError\u001b[0m: 'felipe'"
     ]
    }
   ],
   "source": [
    "notas[\"Felipe\"] # 6\n",
    "notas[\"felipe\"] # KeyError: 'felipe'"
   ]
  },
  {
   "cell_type": "markdown",
   "metadata": {},
   "source": [
    "* En un diccionario, solo puede haber un valor asociado a una clave"
   ]
  },
  {
   "cell_type": "code",
   "execution_count": 6,
   "metadata": {},
   "outputs": [
    {
     "name": "stdout",
     "output_type": "stream",
     "text": [
      "{'clave': 2}\n"
     ]
    }
   ],
   "source": [
    "duplicados = {\"clave\": 1, \"clave\": 2}\n",
    "print(duplicados) # {\"clave\": 2}"
   ]
  },
  {
   "cell_type": "markdown",
   "metadata": {},
   "source": [
    "#### Agregando un elemento a un diccionario\n",
    "* Tomemos un diccionario simple como el siguiente:\n"
   ]
  },
  {
   "cell_type": "code",
   "execution_count": 7,
   "metadata": {},
   "outputs": [],
   "source": [
    "diccionario = {\"llave 1\": 5}"
   ]
  },
  {
   "cell_type": "markdown",
   "metadata": {},
   "source": [
    "* Para agregar un elemento a un diccionario, hace falta especificar una clave nueva, de forma\n",
    "que el nuevo valor ingresado sea identificado con dicha clave."
   ]
  },
  {
   "cell_type": "code",
   "execution_count": 8,
   "metadata": {},
   "outputs": [
    {
     "name": "stdout",
     "output_type": "stream",
     "text": [
      "{'llave 1': 5, 'llave 2': 9}\n"
     ]
    }
   ],
   "source": [
    "diccionario[\"llave 2\"] = 9\n",
    "print(diccionario) # {\"llave 1\": 5, \"llave 2\": 9}"
   ]
  },
  {
   "cell_type": "markdown",
   "metadata": {},
   "source": [
    "#### Cambiando un elemento dentro de un diccionario\n",
    "* De forma similar a como agregamos un elemento a un diccionario, podemos actualizar el\n",
    "valor de uno. Para esto, simplemente tenemos que redefinir el valor asociado a la clave.\n"
   ]
  },
  {
   "cell_type": "code",
   "execution_count": 9,
   "metadata": {},
   "outputs": [
    {
     "name": "stdout",
     "output_type": "stream",
     "text": [
      "{'llave 1': 5, 'llave 2': 9}\n"
     ]
    }
   ],
   "source": [
    "diccionario = {\"llave 1\": 5, \"llave 2\": 7}\n",
    "diccionario[\"llave 2\"] = 9\n",
    "print(diccionario) # {\"llave 1\": 5, \"llave 2\": 9}"
   ]
  },
  {
   "cell_type": "markdown",
   "metadata": {},
   "source": [
    "### Eliminar elementos de un diccionario\n",
    "* Podemos eliminar una llave de un diccionario, junto a su valor, de dos formas: usando el\n",
    "método pop del diccionario o utilizando del. La principal diferencia entre ambas formas es\n",
    "que al utilizar pop obtendremos el valor del elemento eliminado.\n"
   ]
  },
  {
   "cell_type": "code",
   "execution_count": 10,
   "metadata": {},
   "outputs": [],
   "source": [
    "diccionario = {\"celular\": 140000, \"notebook\": 489990, \"tablet\": 120000,\n",
    "\"cargador\": 12400}"
   ]
  },
  {
   "cell_type": "code",
   "execution_count": 11,
   "metadata": {},
   "outputs": [
    {
     "name": "stdout",
     "output_type": "stream",
     "text": [
      "{'notebook': 489990, 'tablet': 120000, 'cargador': 12400}\n"
     ]
    }
   ],
   "source": [
    "del diccionario[\"celular\"]\n",
    "print(diccionario)"
   ]
  },
  {
   "cell_type": "code",
   "execution_count": 12,
   "metadata": {},
   "outputs": [
    {
     "name": "stdout",
     "output_type": "stream",
     "text": [
      "120000\n",
      "{'notebook': 489990, 'cargador': 12400}\n"
     ]
    }
   ],
   "source": [
    "# para usar pop se usa la clave, no la posición\n",
    "eliminado = diccionario.pop(\"tablet\")\n",
    "print(eliminado)\n",
    "print(diccionario)"
   ]
  },
  {
   "cell_type": "markdown",
   "metadata": {},
   "source": [
    "### Unir diccionarios\n",
    "* Una operación muy común es unir dos diccionarios, lo que se puede lograr a través de la\n",
    "siguiente expresión:\n"
   ]
  },
  {
   "cell_type": "code",
   "execution_count": 13,
   "metadata": {},
   "outputs": [
    {
     "name": "stdout",
     "output_type": "stream",
     "text": [
      "{'nombre': 'Alejandra', 'apellido': 'López', 'edad': 33, 'altura': 1.55, 'mascota': 'miti', 'ejercicio': 'bicicleta'}\n"
     ]
    }
   ],
   "source": [
    "diccionario_a = {\"nombre\": \"Alejandra\", \"apellido\": \"López\", \"edad\": 33,\n",
    "\"altura\": 1.55}\n",
    "diccionario_b = { \"mascota\":\"miti\", \"ejercicio\":\"bicicleta\"}\n",
    "# Union de diccionario_a y diccionario_b\n",
    "diccionario_a.update(diccionario_b)\n",
    "# Notar que la unión queda en el primer diccionario\n",
    "print(diccionario_a)"
   ]
  },
  {
   "cell_type": "markdown",
   "metadata": {},
   "source": [
    "### Cuidado con las colisiones\n",
    "* Cuando ambos diccionarios tienen una clave en común, el valor del segundo diccionario\n",
    "sobreescribe al del primero."
   ]
  },
  {
   "cell_type": "code",
   "execution_count": 14,
   "metadata": {},
   "outputs": [
    {
     "name": "stdout",
     "output_type": "stream",
     "text": [
      "{'nombre': 'Alejandra', 'apellido': 'López', 'edad': 33, 'altura': 155, 'mascota': 'miti', 'ejercicio': 'bicicleta'}\n"
     ]
    }
   ],
   "source": [
    "diccionario_a = {\"nombre\": \"Alejandra\", \"apellido\": \"López\", \"edad\": 33,\n",
    "\"altura\": 1.55}\n",
    "diccionario_b = { \"mascota\":\"miti\", \"ejercicio\":\"bicicleta\", \"altura\":\n",
    "155}\n",
    "# Union de diccionario_a y diccionario_b\n",
    "diccionario_a.update(diccionario_b)\n",
    "# Se sobreescribió el valor de altura por el del diccionario_b\n",
    "print(diccionario_a)\n"
   ]
  },
  {
   "cell_type": "markdown",
   "metadata": {},
   "source": [
    "* Por lo tanto, no es lo mismo hacer diccionario_a.update(diccionario_b) que\n",
    "diccionario_b.update(diccionario_a) (ver el valor asociado a la clave \"edad\"):"
   ]
  },
  {
   "cell_type": "code",
   "execution_count": 15,
   "metadata": {},
   "outputs": [
    {
     "name": "stdout",
     "output_type": "stream",
     "text": [
      "{'mascota': 'miti', 'ejercicio': 'bicicleta', 'altura': 1.55, 'nombre': 'Alejandra', 'apellido': 'López', 'edad': 33}\n"
     ]
    }
   ],
   "source": [
    "diccionario_a = {\"nombre\": \"Alejandra\", \"apellido\": \"López\", \"edad\": 33,\n",
    "\"altura\": 1.55}\n",
    "diccionario_b = { \"mascota\":\"miti\", \"ejercicio\":\"bicicleta\", \"altura\":\n",
    "155}\n",
    "diccionario_b.update(diccionario_a)\n",
    "print(diccionario_b)"
   ]
  },
  {
   "cell_type": "markdown",
   "metadata": {},
   "source": [
    "### Otros Métodos para diccionarios\n",
    "* Cuando se tienen diccionarios muy grandes, hay 3 métodos que permiten poder explorarlos\n",
    "de manera mucho más sencilla y rápida:\n"
   ]
  },
  {
   "cell_type": "code",
   "execution_count": 16,
   "metadata": {},
   "outputs": [],
   "source": [
    "computador = {'notebook': 489990, 'tablet': 120000, 'cargador': 12400}"
   ]
  },
  {
   "cell_type": "code",
   "execution_count": 17,
   "metadata": {},
   "outputs": [
    {
     "data": {
      "text/plain": [
       "dict_keys(['notebook', 'tablet', 'cargador'])"
      ]
     },
     "execution_count": 17,
     "metadata": {},
     "output_type": "execute_result"
    }
   ],
   "source": [
    "# Metodo keys()\n",
    "computador.keys()"
   ]
  },
  {
   "cell_type": "code",
   "execution_count": 18,
   "metadata": {},
   "outputs": [
    {
     "data": {
      "text/plain": [
       "dict_values([489990, 120000, 12400])"
      ]
     },
     "execution_count": 18,
     "metadata": {},
     "output_type": "execute_result"
    }
   ],
   "source": [
    "# Metodo values()\n",
    "computador.values()"
   ]
  },
  {
   "cell_type": "code",
   "execution_count": 19,
   "metadata": {},
   "outputs": [
    {
     "data": {
      "text/plain": [
       "dict_items([('notebook', 489990), ('tablet', 120000), ('cargador', 12400)])"
      ]
     },
     "execution_count": 19,
     "metadata": {},
     "output_type": "execute_result"
    }
   ],
   "source": [
    "# Metodo items()\n",
    "computador.items()"
   ]
  },
  {
   "cell_type": "code",
   "execution_count": 20,
   "metadata": {},
   "outputs": [
    {
     "data": {
      "text/plain": [
       "489990"
      ]
     },
     "execution_count": 20,
     "metadata": {},
     "output_type": "execute_result"
    }
   ],
   "source": [
    "# Metodo get()\n",
    "computador.get('notebook', 'No se encuentra el elemento solicitado')"
   ]
  },
  {
   "cell_type": "markdown",
   "metadata": {},
   "source": [
    "## Otras Estructuras de Datos\n",
    "* En Python también existen las tuplas y los sets que son otras estructuras de datos no tan\n",
    "populares como las listas o los diccionarios. A pesar de no ser tan utilizadas, es bueno\n",
    "entender algunas propiedades que pueden ser útiles para algunos problemas específicos.\n",
    "### Tuplas:\n",
    "* Una tupla es un par ordenado inmutable, es decir, no se pueden modificar partes de ella, en\n",
    "caso de querer actualizarlo se debe modificar la tupla completa. Esta propiedad la hace\n",
    "poco amigable, pero aún así hay algunas funcionalidades útiles:\n"
   ]
  },
  {
   "cell_type": "code",
   "execution_count": 21,
   "metadata": {},
   "outputs": [
    {
     "data": {
      "text/plain": [
       "tuple"
      ]
     },
     "execution_count": 21,
     "metadata": {},
     "output_type": "execute_result"
    }
   ],
   "source": [
    "# definición una tupla\n",
    "tupla_ej = (\"Abril\", 2021)\n",
    "type(tupla_ej)"
   ]
  },
  {
   "cell_type": "markdown",
   "metadata": {},
   "source": [
    "* Una propiedad útil es lo que se llama unpacking o desempaquetamiento:"
   ]
  },
  {
   "cell_type": "code",
   "execution_count": 22,
   "metadata": {},
   "outputs": [],
   "source": [
    "# cada valor de la tupla se asigna a month y year respectivamente\n",
    "month, year = tupla_ej\n",
    "# este es una manera alternativa de hacerlo\n",
    "month, year = \"Abril\", 2021"
   ]
  },
  {
   "cell_type": "markdown",
   "metadata": {},
   "source": [
    "### Sets:\n",
    "* Es una estructura de datos que permite trabajar similar a lo que es la teoría de conjuntos.\n",
    "Una característica importante de este tipo de estructura es que no permite valores\n",
    "duplicados, por lo que si se necesita conocer sólo valores únicos, esta es la estructura de\n",
    "datos a utilizar.\n"
   ]
  },
  {
   "cell_type": "code",
   "execution_count": 23,
   "metadata": {},
   "outputs": [],
   "source": [
    "# definición de un set\n",
    "# se pueden ver que existen valores repetidos\n",
    "muchos_animales = {'Gato', 'Perro', 'Tortuga',\n",
    "'Gato', 'Perro', 'Tortuga',\n",
    "'Gato', 'Perro', 'Tortuga',\n",
    "'Gato', 'Perro', 'Tortuga',\n",
    "'Hurón', 'Hamster', 'Erizo de Tierra'}"
   ]
  },
  {
   "cell_type": "code",
   "execution_count": 24,
   "metadata": {},
   "outputs": [
    {
     "name": "stdout",
     "output_type": "stream",
     "text": [
      "{'Hurón', 'Perro', 'Erizo de Tierra', 'Hamster', 'Tortuga', 'Gato'}\n"
     ]
    }
   ],
   "source": [
    "# no hay duplicados, sólo valores únicos\n",
    "print(muchos_animales)"
   ]
  },
  {
   "cell_type": "markdown",
   "metadata": {},
   "source": [
    "### Convertir estructuras\n",
    "* Muchas veces será necesario hacer transformaciones de una estructura a otra por\n",
    "comodidad o porque ofrece propiedades más apropiadas al problema a resolver.\n",
    "* Para lograr esto, se debe utilizar la función items(). Cada par (clave, valor) será una tupla:\n",
    "\n"
   ]
  },
  {
   "cell_type": "code",
   "execution_count": 25,
   "metadata": {},
   "outputs": [
    {
     "data": {
      "text/plain": [
       "[('k1', 5), ('k2', 7)]"
      ]
     },
     "execution_count": 25,
     "metadata": {},
     "output_type": "execute_result"
    }
   ],
   "source": [
    "list({\"k1\": 5, \"k2\": 7}.items()) # [('k1', 5), ('k2', 7)]"
   ]
  },
  {
   "cell_type": "markdown",
   "metadata": {},
   "source": [
    "* Para invertir la transformación se utiliza la función dict."
   ]
  },
  {
   "cell_type": "code",
   "execution_count": 26,
   "metadata": {},
   "outputs": [
    {
     "data": {
      "text/plain": [
       "{'k1': 5, 'k2': 7}"
      ]
     },
     "execution_count": 26,
     "metadata": {},
     "output_type": "execute_result"
    }
   ],
   "source": [
    "dict([('k1', 5), ('k2', 7)]) # {\"k1\": 5, \"k2\": 7}"
   ]
  },
  {
   "cell_type": "markdown",
   "metadata": {},
   "source": [
    "* Análogamente existen las funciones tuple() y set() que permitirán transformar a tuplas\n",
    "y/o sets respectivamente.\n"
   ]
  },
  {
   "cell_type": "markdown",
   "metadata": {},
   "source": [
    "## La función dir()\n",
    "* La función dir corresponde a una función especial en Python que permitirá determinar qué\n",
    "métodos están disponibles en cada tipo de dato y/o estructura. Esta función puede ser de\n",
    "utilidad cuando olvidemos algunas de las funcionalidades que cada tipo de objeto ofrece en\n",
    "Python.\n"
   ]
  },
  {
   "cell_type": "code",
   "execution_count": 27,
   "metadata": {},
   "outputs": [
    {
     "data": {
      "text/plain": [
       "['__add__',\n",
       " '__class__',\n",
       " '__contains__',\n",
       " '__delattr__',\n",
       " '__dir__',\n",
       " '__doc__',\n",
       " '__eq__',\n",
       " '__format__',\n",
       " '__ge__',\n",
       " '__getattribute__',\n",
       " '__getitem__',\n",
       " '__getnewargs__',\n",
       " '__gt__',\n",
       " '__hash__',\n",
       " '__init__',\n",
       " '__init_subclass__',\n",
       " '__iter__',\n",
       " '__le__',\n",
       " '__len__',\n",
       " '__lt__',\n",
       " '__mod__',\n",
       " '__mul__',\n",
       " '__ne__',\n",
       " '__new__',\n",
       " '__reduce__',\n",
       " '__reduce_ex__',\n",
       " '__repr__',\n",
       " '__rmod__',\n",
       " '__rmul__',\n",
       " '__setattr__',\n",
       " '__sizeof__',\n",
       " '__str__',\n",
       " '__subclasshook__',\n",
       " 'capitalize',\n",
       " 'casefold',\n",
       " 'center',\n",
       " 'count',\n",
       " 'encode',\n",
       " 'endswith',\n",
       " 'expandtabs',\n",
       " 'find',\n",
       " 'format',\n",
       " 'format_map',\n",
       " 'index',\n",
       " 'isalnum',\n",
       " 'isalpha',\n",
       " 'isascii',\n",
       " 'isdecimal',\n",
       " 'isdigit',\n",
       " 'isidentifier',\n",
       " 'islower',\n",
       " 'isnumeric',\n",
       " 'isprintable',\n",
       " 'isspace',\n",
       " 'istitle',\n",
       " 'isupper',\n",
       " 'join',\n",
       " 'ljust',\n",
       " 'lower',\n",
       " 'lstrip',\n",
       " 'maketrans',\n",
       " 'partition',\n",
       " 'removeprefix',\n",
       " 'removesuffix',\n",
       " 'replace',\n",
       " 'rfind',\n",
       " 'rindex',\n",
       " 'rjust',\n",
       " 'rpartition',\n",
       " 'rsplit',\n",
       " 'rstrip',\n",
       " 'split',\n",
       " 'splitlines',\n",
       " 'startswith',\n",
       " 'strip',\n",
       " 'swapcase',\n",
       " 'title',\n",
       " 'translate',\n",
       " 'upper',\n",
       " 'zfill']"
      ]
     },
     "execution_count": 27,
     "metadata": {},
     "output_type": "execute_result"
    }
   ],
   "source": [
    "var = 'string'\n",
    "dir(var)"
   ]
  },
  {
   "cell_type": "markdown",
   "metadata": {},
   "source": [
    "### Otras funciones en Python\n",
    "* Existen además un par de funciones especiales que pueden ser útiles cuando se trata con\n",
    "estructuras de datos. Estas funciones pueden aplicarse a cualquier tipo de estructura de\n",
    "datos en Python. Es más, existe una que ya hemos revisado, que es la función len(). Esta\n",
    "función revisa todos los elementos de una estructura y nos indica cuántos elementos\n",
    "existen.\n"
   ]
  },
  {
   "cell_type": "code",
   "execution_count": 28,
   "metadata": {},
   "outputs": [
    {
     "name": "stdout",
     "output_type": "stream",
     "text": [
      "6\n"
     ]
    }
   ],
   "source": [
    "# Funcion sum()\n",
    "var = [1,2,3]\n",
    "print(sum(var))"
   ]
  },
  {
   "cell_type": "code",
   "execution_count": 29,
   "metadata": {},
   "outputs": [
    {
     "name": "stdout",
     "output_type": "stream",
     "text": [
      "3\n"
     ]
    }
   ],
   "source": [
    "# Funcion max()\n",
    "var = [1,2,3]\n",
    "print(max(var))"
   ]
  },
  {
   "cell_type": "code",
   "execution_count": 30,
   "metadata": {},
   "outputs": [
    {
     "name": "stdout",
     "output_type": "stream",
     "text": [
      "1\n"
     ]
    }
   ],
   "source": [
    "# Funcion min()\n",
    "var = [1,2,3]\n",
    "print(min(var))"
   ]
  }
 ],
 "metadata": {
  "kernelspec": {
   "display_name": "Python 3.10.5 64-bit",
   "language": "python",
   "name": "python3"
  },
  "language_info": {
   "codemirror_mode": {
    "name": "ipython",
    "version": 3
   },
   "file_extension": ".py",
   "mimetype": "text/x-python",
   "name": "python",
   "nbconvert_exporter": "python",
   "pygments_lexer": "ipython3",
   "version": "3.10.5"
  },
  "orig_nbformat": 4,
  "vscode": {
   "interpreter": {
    "hash": "5fe23d4cdea1a1fdeea398f38169f58ea6e36b10f84ee4017a8f0fee693ee786"
   }
  }
 },
 "nbformat": 4,
 "nbformat_minor": 2
}
