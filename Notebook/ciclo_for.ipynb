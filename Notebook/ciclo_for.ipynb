{
 "cells": [
  {
   "cell_type": "markdown",
   "metadata": {},
   "source": [
    "### Ciclo For\n",
    ">La instrucción for en Python suele funcionar un poco distinta, ya que normalmente va a\n",
    "iterar en un rango de valores, pero en Python funciona más como un “for each”, es decir, que\n",
    "el for iterará en cada elemento de un objeto. Este objeto tiene una característica que lo\n",
    "define: debe ser un iterable.\n",
    ">\n",
    ">Su sintaxis es la siguiente:\n",
    ">\n",
    ">for variable in iterable:\n",
    ">>* se ejecutará código para cada valor del iterable.\n",
    ">>* El código debe estar correctamente indentado.\n",
    ">\n",
    "### Iterables\n",
    "> Los iterables son estructuras que tienen elementos en los cuales es posible desplazarse\n",
    "desde un elemento a otro en orden, y que corresponden a estructuras de datos, como por\n",
    "ejemplo, listas y diccionarios, etc.\n",
    ">\n",
    "##### La función range\n",
    ">\n",
    ">Un primer iterable y el más común inicialmente, es utilizar la función range(), la que permite\n",
    "generar un espacio con un rango de números.\n",
    ">\n",
    ">Existen 3 maneras de utilizar range():\n",
    "\n",
    "\n"
   ]
  },
  {
   "cell_type": "code",
   "execution_count": 1,
   "metadata": {},
   "outputs": [
    {
     "name": "stdout",
     "output_type": "stream",
     "text": [
      "0\n",
      "1\n",
      "2\n",
      "3\n",
      "4\n",
      "5\n",
      "6\n",
      "7\n",
      "8\n",
      "9\n"
     ]
    }
   ],
   "source": [
    "# Con un sólo valor\n",
    "for i in range(10):\n",
    "    print(i)"
   ]
  },
  {
   "cell_type": "markdown",
   "metadata": {},
   "source": [
    ">Cuando se utiliza un solo valor, este corresponde al límite superior. En Python el límite\n",
    "superior se excluye, por lo tanto, el rango comenzará en 0 y terminará en 9 (valor anterior al\n",
    "límite superior).\n"
   ]
  },
  {
   "cell_type": "code",
   "execution_count": 2,
   "metadata": {},
   "outputs": [
    {
     "name": "stdout",
     "output_type": "stream",
     "text": [
      "4\n",
      "5\n",
      "6\n",
      "7\n",
      "8\n",
      "9\n"
     ]
    }
   ],
   "source": [
    "# Con dos valores\n",
    "for i in range(4,10):\n",
    "    print(i)"
   ]
  },
  {
   "cell_type": "markdown",
   "metadata": {},
   "source": [
    ">En el caso de utilizar dos valores, estos corresponderán al valor de inicio y al límite superior\n",
    "respectivamente, y al igual que el caso anterior, el límite superior se excluye."
   ]
  },
  {
   "cell_type": "code",
   "execution_count": 3,
   "metadata": {},
   "outputs": [
    {
     "name": "stdout",
     "output_type": "stream",
     "text": [
      "4\n",
      "6\n",
      "8\n"
     ]
    }
   ],
   "source": [
    "# Con tres valores\n",
    "for i in range(4,10,2):\n",
    "    print(i)"
   ]
  },
  {
   "cell_type": "markdown",
   "metadata": {},
   "source": [
    ">Al utilizar tres valores, estos corresponderán al valor inicial, al límite superior y al paso\n",
    "(step). El límite superior queda igualmente excluido y el paso indicará cada cuanto es el\n",
    "incremento en la generación del rango.\n",
    ">\n",
    ">Además, la función range() se verá siempre utilizada dentro de ciclo, ya que al utilizarla por\n",
    "sí sóla entrega lo siguiente:"
   ]
  },
  {
   "cell_type": "code",
   "execution_count": 4,
   "metadata": {},
   "outputs": [
    {
     "name": "stdout",
     "output_type": "stream",
     "text": [
      "range(4, 10, 2)\n"
     ]
    },
    {
     "data": {
      "text/plain": [
       "range(4, 10, 2)"
      ]
     },
     "execution_count": 4,
     "metadata": {},
     "output_type": "execute_result"
    }
   ],
   "source": [
    "print(range(4,10,2))\n",
    "range(4,10,2)"
   ]
  },
  {
   "cell_type": "markdown",
   "metadata": {},
   "source": [
    ">De hecho, si se chequea el tipo de dato, nos arrojará que es de tipo range, por lo que\n",
    "inicialmente se utilizará solo como un generador de rangos en el ciclo for."
   ]
  },
  {
   "cell_type": "code",
   "execution_count": 5,
   "metadata": {},
   "outputs": [
    {
     "name": "stdout",
     "output_type": "stream",
     "text": [
      "<class 'range'>\n"
     ]
    }
   ],
   "source": [
    "print(type(range(4,10,2)))"
   ]
  },
  {
   "cell_type": "markdown",
   "metadata": {},
   "source": [
    "#### Utilizando estructuras de datos en un ciclo For\n",
    ">Como se dijo anteriormente cualquier iterable puede ser utilizado dentro de un ciclo for.\n",
    ">\n",
    ">Acá algunos ejemplos:\n",
    ">\n",
    ">Listas\n",
    ">\n",
    ">Como primer ejemplo, podemos iterar por todos los elementos de una lista:"
   ]
  },
  {
   "cell_type": "code",
   "execution_count": 6,
   "metadata": {},
   "outputs": [
    {
     "name": "stdout",
     "output_type": "stream",
     "text": [
      "1\n",
      "5\n",
      "8\n",
      "3\n",
      "4\n"
     ]
    }
   ],
   "source": [
    "a = [1,5,8,3,4]\n",
    "for elemento in a:\n",
    "    print(elemento)"
   ]
  },
  {
   "cell_type": "markdown",
   "metadata": {},
   "source": [
    ">Entendamos el código, estamos asignando una lista de números a la variable a. Esta lista la\n",
    "estamos recorriendo con el ciclo for donde queremos que por cada elemento dentro del\n",
    "iterable a (que es una lista de python) muestre en consola cada elemento.\n",
    ">\n",
    "#### Strings\n",
    "> Hemos mencionado en otras ocasiones que los Strings son muy similares a las listas, en\n",
    "este caso, los strings también son iterables. Por ejemplo, podemos deletrear una o más\n",
    "palabras:\n"
   ]
  },
  {
   "cell_type": "code",
   "execution_count": 7,
   "metadata": {},
   "outputs": [
    {
     "name": "stdout",
     "output_type": "stream",
     "text": [
      "h\n",
      "o\n",
      "l\n",
      "a\n",
      " \n",
      "m\n",
      "u\n",
      "n\n",
      "d\n",
      "o\n"
     ]
    }
   ],
   "source": [
    "texto = \"hola mundo\"\n",
    "for caracter in texto:\n",
    "    print(caracter)"
   ]
  },
  {
   "cell_type": "markdown",
   "metadata": {},
   "source": [
    "> **NOTA:** El ciclo for permite nombrar la variable iteradora de cualquier manera, por\n",
    "lo tanto, es conveniente utilizar un nombre variable que sea representativo de lo\n",
    "que se está iterando.\n",
    ">\n",
    "#### Diccionarios\n",
    ">Como dijimos en la unidad anterior, un diccionario se compone de una clave y un valor, es\n",
    "por eso que la manera más común de iterar diccionarios es utilizando .items().\n",
    ">\n",
    ">Otra diferencia muy importante, es que en cada iteración se extraerán dos elementos, la\n",
    "clave y el valor:\n",
    "\n"
   ]
  },
  {
   "cell_type": "code",
   "execution_count": 8,
   "metadata": {},
   "outputs": [
    {
     "name": "stdout",
     "output_type": "stream",
     "text": [
      "Mi Nombre es Carlos\n",
      "Mi Apellido es Santana\n",
      "Mi Ocupación es Guitarrista\n"
     ]
    }
   ],
   "source": [
    "diccionario = {\"Nombre\": \"Carlos\",\n",
    "               \"Apellido\": \"Santana\",\n",
    "               \"Ocupación\": \"Guitarrista\"}\n",
    "for clave, valor in diccionario.items():\n",
    "    print(f\"Mi {clave} es {valor}\")\n"
   ]
  },
  {
   "cell_type": "markdown",
   "metadata": {},
   "source": [
    "#### Otras funciones útiles al momento de iterar\n",
    ">\n",
    ">enumerate()\n",
    ">\n",
    ">enumerate() permite agregar un contador a la iteración, por lo tanto extrae elemento y\n",
    "contador.\n",
    ">\n",
    ">Ejemplo:\n"
   ]
  },
  {
   "cell_type": "code",
   "execution_count": 9,
   "metadata": {},
   "outputs": [
    {
     "name": "stdout",
     "output_type": "stream",
     "text": [
      "La letra en la posición 0 es la E\n",
      "La letra en la posición 1 es la s\n",
      "La letra en la posición 2 es la t\n",
      "La letra en la posición 3 es la e\n",
      "La letra en la posición 4 es la r\n",
      "La letra en la posición 5 es la n\n",
      "La letra en la posición 6 es la o\n",
      "La letra en la posición 7 es la c\n",
      "La letra en la posición 8 es la l\n",
      "La letra en la posición 9 es la e\n",
      "La letra en la posición 10 es la i\n",
      "La letra en la posición 11 es la d\n",
      "La letra en la posición 12 es la o\n",
      "La letra en la posición 13 es la m\n",
      "La letra en la posición 14 es la a\n",
      "La letra en la posición 15 es la s\n",
      "La letra en la posición 16 es la t\n",
      "La letra en la posición 17 es la o\n",
      "La letra en la posición 18 es la i\n",
      "La letra en la posición 19 es la d\n",
      "La letra en la posición 20 es la e\n",
      "La letra en la posición 21 es la o\n"
     ]
    }
   ],
   "source": [
    "texto = \"Esternocleidomastoideo\"\n",
    "for pos, letra in enumerate(texto):\n",
    "    print(f\"La letra en la posición {pos} es la {letra}\")"
   ]
  },
  {
   "cell_type": "markdown",
   "metadata": {},
   "source": [
    "> **NOTA:** enumerate() comienza su conteo en cero.\n",
    ">\n",
    "##### zip()\n",
    ">Permite unir varios iterables para utilizarlos dentro de la misma iteración:\n"
   ]
  },
  {
   "cell_type": "code",
   "execution_count": 10,
   "metadata": {},
   "outputs": [
    {
     "name": "stdout",
     "output_type": "stream",
     "text": [
      "La manzana es de color verde\n",
      "El platano es de color amarillo\n",
      "La frutilla es de color roja\n",
      "El tomate es de color rojo\n"
     ]
    }
   ],
   "source": [
    "prefijo = ['La','El','La','El']\n",
    "frutas = ['manzana', 'platano','frutilla','tomate']\n",
    "colores = ['verde','amarillo','roja','rojo']\n",
    "for p, fruta, color in zip(prefijo, frutas, colores):\n",
    "    print(f'{p} {fruta} es de color {color}')"
   ]
  },
  {
   "cell_type": "markdown",
   "metadata": {},
   "source": [
    ">¿Cómo salir de un ciclo for?\n",
    ">\n",
    ">Previamente, vimos que se puede terminar un ciclo while con una condición de salida. En el\n",
    "caso de un ciclo for, este termina cuando se recorre todo el iterable, pero ¿es posible\n",
    "terminar un ciclo for a propósito?\n",
    ">\n",
    ">La respuesta es sí, pueden existir varios casos en que se requiera terminar el ciclo sin la\n",
    "necesidad de recorrer todos los elementos. Para hacerlo, se debe escribir la palabra break, y\n",
    "esta instrucción hace que el ciclo termine y se continúe con la ejecución del resto del\n",
    "programa.\n"
   ]
  }
 ],
 "metadata": {
  "kernelspec": {
   "display_name": "Python 3.10.5 64-bit",
   "language": "python",
   "name": "python3"
  },
  "language_info": {
   "codemirror_mode": {
    "name": "ipython",
    "version": 3
   },
   "file_extension": ".py",
   "mimetype": "text/x-python",
   "name": "python",
   "nbconvert_exporter": "python",
   "pygments_lexer": "ipython3",
   "version": "3.10.5"
  },
  "orig_nbformat": 4,
  "vscode": {
   "interpreter": {
    "hash": "5fe23d4cdea1a1fdeea398f38169f58ea6e36b10f84ee4017a8f0fee693ee786"
   }
  }
 },
 "nbformat": 4,
 "nbformat_minor": 2
}
