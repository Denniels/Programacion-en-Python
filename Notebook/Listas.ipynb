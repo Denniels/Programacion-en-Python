{
 "cells": [
  {
   "cell_type": "markdown",
   "metadata": {},
   "source": [
    "## Introducción a Listas\n",
    "* Las listas son contenedores que permiten almacenar múltiples datos. En lugar de guardar\n",
    "un solo número o un solo string en una variable, ahora podemos almacenar en un objeto\n",
    "varios valores simultáneamente, tal como se observa a continuación:\n"
   ]
  },
  {
   "cell_type": "code",
   "execution_count": null,
   "metadata": {},
   "outputs": [],
   "source": [
    "# Estos elementos pueden ser de un mismo tipo de datos, por ejemplo solo strings:\n",
    "animales = ['gato','perro','raton']\n",
    "# O pueden ser de distintos tipos de dato.\n",
    "lista_heterogenea = [1, \"gato\", 3.0, False]"
   ]
  },
  {
   "cell_type": "markdown",
   "metadata": {},
   "source": [
    "* Los elementos de la lista se pueden modificar, ya sea cambiando los valores de éstos,\n",
    "agregando o eliminando elementos. Por eso es que se dice que las listas son mutables.\n",
    "## Definir y mostrar una lista\n",
    "* Para crear una lista utilizaremos la siguiente sintaxis:\n"
   ]
  },
  {
   "cell_type": "code",
   "execution_count": 1,
   "metadata": {},
   "outputs": [],
   "source": [
    "a = [1, 2, 3, 4]"
   ]
  },
  {
   "cell_type": "markdown",
   "metadata": {},
   "source": [
    "* Se definen con los paréntesis de corchete []; Todo lo que esté dentro de los [], separados\n",
    "por coma, son los elementos de la lista.\n",
    "Lo más sencillo que podemos hacer con una lista es mostrar sus elementos. Para esto\n",
    "podemos ocupar print o llamar a su objeto contenedor."
   ]
  },
  {
   "cell_type": "code",
   "execution_count": 2,
   "metadata": {},
   "outputs": [
    {
     "name": "stdout",
     "output_type": "stream",
     "text": [
      "[1, 2, 3, 4]\n",
      "[1, 2, 'hola', 4]\n"
     ]
    }
   ],
   "source": [
    "print(a) # mostramos los valores de la lista a definida arriba\n",
    "print([1, 2, 'hola', 4]) # mostramos directo una lista"
   ]
  },
  {
   "cell_type": "markdown",
   "metadata": {},
   "source": [
    "## Índices\n",
    "* Cada elemento en la lista tiene una posición específica, la que se conoce como índice, el que\n",
    "permite acceder al elemento que está dentro de la lista.\n",
    "* En Python los índices parten en cero y van hasta n - 1, donde n es la cantidad de\n",
    "elementos en la lista.\n",
    "* Por ejemplo: En una lista que contiene 4 elementos, el primer elemento está en la posición\n",
    "cero, y el último en la 3.\n",
    "* Para acceder al elemento de una posición específica de la lista, simplemente se debe\n",
    "escribir el nombre de la lista, y entre paréntesis de corchetes, el índice de la posición.\n"
   ]
  },
  {
   "cell_type": "code",
   "execution_count": 3,
   "metadata": {},
   "outputs": [
    {
     "name": "stdout",
     "output_type": "stream",
     "text": [
      "verde\n",
      "rojo\n",
      "azul\n"
     ]
    }
   ],
   "source": [
    "colores = [\"verde\", \"rojo\", \"rosa\", \"azul\"]\n",
    "print(colores[0])\n",
    "print(colores[1])\n",
    "print(colores[3])"
   ]
  },
  {
   "cell_type": "markdown",
   "metadata": {},
   "source": [
    "* En caso de que el índice sea mayor o igual a la cantidad de elementos en la lista, Python\n",
    "arrojará un IndexError: list index out of range,"
   ]
  },
  {
   "cell_type": "code",
   "execution_count": 4,
   "metadata": {},
   "outputs": [
    {
     "ename": "IndexError",
     "evalue": "list index out of range",
     "output_type": "error",
     "traceback": [
      "\u001b[1;31m---------------------------------------------------------------------------\u001b[0m",
      "\u001b[1;31mIndexError\u001b[0m                                Traceback (most recent call last)",
      "\u001b[1;32mc:\\Users\\dmard\\Documents\\GitHub\\Programacion-en-Python\\Notebook\\Listas.ipynb Cell 10'\u001b[0m in \u001b[0;36m<cell line: 1>\u001b[1;34m()\u001b[0m\n\u001b[1;32m----> <a href='vscode-notebook-cell:/c%3A/Users/dmard/Documents/GitHub/Programacion-en-Python/Notebook/Listas.ipynb#ch0000011?line=0'>1</a>\u001b[0m colores[\u001b[39m8\u001b[39;49m]\n",
      "\u001b[1;31mIndexError\u001b[0m: list index out of range"
     ]
    }
   ],
   "source": [
    "colores[8]"
   ]
  },
  {
   "cell_type": "markdown",
   "metadata": {},
   "source": [
    "* Los índices también se pueden utilizar con números negativos y de esta forma referirse a\n",
    "los elementos desde el último al primero.\n",
    "* En Python, el índice del último elemento también se puede denotar con -1 y el primer\n",
    "elemento corresponde al elemento -n\n"
   ]
  },
  {
   "cell_type": "code",
   "execution_count": 5,
   "metadata": {},
   "outputs": [
    {
     "data": {
      "text/plain": [
       "5"
      ]
     },
     "execution_count": 5,
     "metadata": {},
     "output_type": "execute_result"
    }
   ],
   "source": [
    "a = [1, 2, 3, 4, 5]\n",
    "a[-1]"
   ]
  },
  {
   "cell_type": "markdown",
   "metadata": {},
   "source": [
    "### ARGV\n",
    "* Hasta el momento vimos que input() es una instrucción que nos permite ingresar datos\n",
    "por parte del usuario para poder ser utilizados dentro de nuestros programas. Ahora\n",
    "presentaremos argv, los cuales son argumentos que se pueden ingresar desde la terminal\n",
    "al momento de ejecutar nuestro programa.\n"
   ]
  },
  {
   "cell_type": "markdown",
   "metadata": {},
   "source": [
    "## Métodos aplicables a listas\n",
    "* Cuando definimos una lista en Python, el intérprete infiere cuál es la mejor representación de\n",
    "la expresión. En base a este punto, también le delega a la expresión una serie de acciones\n",
    "que pueda realizar, las que se conocen como métodos de lista.\n",
    "* Cuando generamos una nueva lista y la asignamos a una variable, su generación viene con\n",
    "una serie de atributos y métodos asociados. Esta es otra de las virtudes del paradigma\n",
    "orientado a objetos: cada objeto o representación creada vendrá con una serie de\n",
    "funcionalidades agregadas.\n",
    "* La forma tradicional para llamar a un método fue vista anteriormente y se llama notación de\n",
    "punto: objeto.método(argumentos).\n",
    "* Al generar un objeto llamado lista_de_numeros que se compone de los números del 1 al\n",
    "10, donde Python le concederá una serie de acciones dado que infiere que su mejor\n",
    "representación es una lista, donde se puede ver cuáles son todas las posibles acciones\n",
    "utilizando el atributo __dir__().\n"
   ]
  },
  {
   "cell_type": "code",
   "execution_count": 6,
   "metadata": {},
   "outputs": [
    {
     "name": "stdout",
     "output_type": "stream",
     "text": [
      "['__new__', '__repr__', '__hash__', '__getattribute__', '__lt__', '__le__', '__eq__', '__ne__', '__gt__', '__ge__', '__iter__', '__init__', '__len__', '__getitem__', '__setitem__', '__delitem__', '__add__', '__mul__', '__rmul__', '__contains__', '__iadd__', '__imul__', '__reversed__', '__sizeof__', 'clear', 'copy', 'append', 'insert', 'extend', 'pop', 'remove', 'index', 'count', 'reverse', 'sort', '__class_getitem__', '__doc__', '__str__', '__setattr__', '__delattr__', '__reduce_ex__', '__reduce__', '__subclasshook__', '__init_subclass__', '__format__', '__dir__', '__class__']\n"
     ]
    }
   ],
   "source": [
    "lista_de_numeros = [1, 2, 3, 4, 5, 6, 7, 8, 9 ,10]\n",
    "print(lista_de_numeros.__dir__())"
   ]
  },
  {
   "cell_type": "markdown",
   "metadata": {},
   "source": [
    "* Aquellos elementos que están envueltos por __ se conocen como magic built-in o dunders,\n",
    "y buscan generar flexibilizaciones en el comportamiento de las clases. Serán retomados\n",
    "cuando hablemos de clases. Todas las que no son dunders son las acciones disponibles a\n",
    "acceder. A continuación, revisaremos los más importantes:\n"
   ]
  },
  {
   "cell_type": "code",
   "execution_count": 7,
   "metadata": {},
   "outputs": [
    {
     "name": "stdout",
     "output_type": "stream",
     "text": [
      "['verde', 'rojo', 'rosa', 'azul', 'celeste']\n"
     ]
    }
   ],
   "source": [
    "# Metodo append()\n",
    "colores = ['verde', 'rojo', 'rosa', 'azul']\n",
    "colores.append(\"celeste\")\n",
    "print(colores)"
   ]
  },
  {
   "cell_type": "code",
   "execution_count": 8,
   "metadata": {},
   "outputs": [
    {
     "name": "stdout",
     "output_type": "stream",
     "text": [
      "[1, 2, 3, 4, 5, 6, 7, 8, 9, 10, 11, 13]\n"
     ]
    }
   ],
   "source": [
    "# Metodo inseet()\n",
    "lista_de_numeros = [1, 2, 3, 4, 5, 6, 7, 8, 9, 10, 11]\n",
    "lista_de_numeros.append(13)\n",
    "print(lista_de_numeros)\n"
   ]
  },
  {
   "cell_type": "code",
   "execution_count": 9,
   "metadata": {},
   "outputs": [
    {
     "name": "stdout",
     "output_type": "stream",
     "text": [
      "[1, 2, 3, 4, 5, 6, 7, 8, 9, 10, 11, 12, 13]\n"
     ]
    }
   ],
   "source": [
    "# Metodo insert()\n",
    "lista_de_numeros.insert(11, 12)\n",
    "print(lista_de_numeros)"
   ]
  },
  {
   "cell_type": "code",
   "execution_count": 10,
   "metadata": {},
   "outputs": [
    {
     "data": {
      "text/plain": [
       "'azul'"
      ]
     },
     "execution_count": 10,
     "metadata": {},
     "output_type": "execute_result"
    }
   ],
   "source": [
    "# Metodo pop()\n",
    "colores.pop()\n",
    "colores.pop(3)"
   ]
  },
  {
   "cell_type": "code",
   "execution_count": 11,
   "metadata": {},
   "outputs": [
    {
     "name": "stdout",
     "output_type": "stream",
     "text": [
      "verde\n"
     ]
    }
   ],
   "source": [
    "color = colores.pop(0)\n",
    "print(color)"
   ]
  },
  {
   "cell_type": "code",
   "execution_count": 12,
   "metadata": {},
   "outputs": [
    {
     "name": "stdout",
     "output_type": "stream",
     "text": [
      "['rosa']\n"
     ]
    }
   ],
   "source": [
    "# Metodo remove()\n",
    "colores.remove(\"rojo\")\n",
    "print(colores)"
   ]
  },
  {
   "cell_type": "code",
   "execution_count": 13,
   "metadata": {},
   "outputs": [
    {
     "ename": "ValueError",
     "evalue": "list.remove(x): x not in list",
     "output_type": "error",
     "traceback": [
      "\u001b[1;31m---------------------------------------------------------------------------\u001b[0m",
      "\u001b[1;31mValueError\u001b[0m                                Traceback (most recent call last)",
      "\u001b[1;32mc:\\Users\\dmard\\Documents\\GitHub\\Programacion-en-Python\\Notebook\\Listas.ipynb Cell 23'\u001b[0m in \u001b[0;36m<cell line: 3>\u001b[1;34m()\u001b[0m\n\u001b[0;32m      <a href='vscode-notebook-cell:/c%3A/Users/dmard/Documents/GitHub/Programacion-en-Python/Notebook/Listas.ipynb#ch0000025?line=0'>1</a>\u001b[0m \u001b[39m# Se arroja un error dado que azul ya no es parte de colores\u001b[39;00m\n\u001b[1;32m----> <a href='vscode-notebook-cell:/c%3A/Users/dmard/Documents/GitHub/Programacion-en-Python/Notebook/Listas.ipynb#ch0000025?line=2'>3</a>\u001b[0m colores\u001b[39m.\u001b[39;49mremove(\u001b[39m\"\u001b[39;49m\u001b[39mazul\u001b[39;49m\u001b[39m\"\u001b[39;49m)\n",
      "\u001b[1;31mValueError\u001b[0m: list.remove(x): x not in list"
     ]
    }
   ],
   "source": [
    "# Se arroja un error dado que azul ya no es parte de colores\n",
    "\n",
    "colores.remove(\"azul\")"
   ]
  },
  {
   "cell_type": "code",
   "execution_count": 14,
   "metadata": {},
   "outputs": [
    {
     "name": "stdout",
     "output_type": "stream",
     "text": [
      "[500, 70, 20, 100]\n"
     ]
    }
   ],
   "source": [
    "# Metodo reverse()\n",
    "numeros = [100, 20, 70, 500]\n",
    "animales = [\"perro\", \"gato\", \"hurón\", \"erizo\"]\n",
    "numeros.reverse()\n",
    "animales.reverse()\n",
    "print(numeros)"
   ]
  },
  {
   "cell_type": "code",
   "execution_count": 15,
   "metadata": {},
   "outputs": [
    {
     "name": "stdout",
     "output_type": "stream",
     "text": [
      "['erizo', 'hurón', 'gato', 'perro']\n"
     ]
    }
   ],
   "source": [
    "print(animales)"
   ]
  },
  {
   "cell_type": "code",
   "execution_count": 16,
   "metadata": {},
   "outputs": [
    {
     "name": "stdout",
     "output_type": "stream",
     "text": [
      "['erizo', 'gato', 'hurón', 'perro']\n"
     ]
    }
   ],
   "source": [
    "# Metodo sort()\n",
    "animales.sort()\n",
    "numeros.sort()\n",
    "print(animales)"
   ]
  },
  {
   "cell_type": "code",
   "execution_count": 17,
   "metadata": {},
   "outputs": [
    {
     "name": "stdout",
     "output_type": "stream",
     "text": [
      "[20, 70, 100, 500]\n"
     ]
    }
   ],
   "source": [
    "print(numeros)"
   ]
  },
  {
   "cell_type": "code",
   "execution_count": 18,
   "metadata": {},
   "outputs": [
    {
     "name": "stdout",
     "output_type": "stream",
     "text": [
      "[500, 100, 70, 20]\n"
     ]
    }
   ],
   "source": [
    "numeros.reverse()\n",
    "print(numeros)"
   ]
  },
  {
   "cell_type": "code",
   "execution_count": 19,
   "metadata": {},
   "outputs": [
    {
     "data": {
      "text/plain": [
       "[7, 6, 4, 3, 1]"
      ]
     },
     "execution_count": 19,
     "metadata": {},
     "output_type": "execute_result"
    }
   ],
   "source": [
    "# Metodo sorted()\n",
    "sorted([3,6,7,4,1], reverse = True)"
   ]
  },
  {
   "cell_type": "code",
   "execution_count": 20,
   "metadata": {},
   "outputs": [
    {
     "name": "stdout",
     "output_type": "stream",
     "text": [
      "1\n"
     ]
    }
   ],
   "source": [
    "# Metodo index()\n",
    "print(animales.index('gato'))"
   ]
  },
  {
   "cell_type": "code",
   "execution_count": 21,
   "metadata": {},
   "outputs": [
    {
     "name": "stdout",
     "output_type": "stream",
     "text": [
      "0\n"
     ]
    }
   ],
   "source": [
    "print(numeros.index(500))"
   ]
  },
  {
   "cell_type": "markdown",
   "metadata": {},
   "source": [
    "## Operaciones: Concatenación de listas\n",
    "* Como ya mostramos anteriormente, es importante entender una lista como “una estructura\n",
    "de tipo lista”, por lo tanto, hay algunos comportamientos que podrían sorprendernos, ya que\n",
    "no es lo que esperaríamos, donde un ejemplo de esto es la operación +.\n",
    "* Como vimos, los strings son un caso especial de listas, por lo tanto, las operaciones + e\n",
    "incluso len() funcionarán de manera análoga:\n"
   ]
  },
  {
   "cell_type": "code",
   "execution_count": 22,
   "metadata": {},
   "outputs": [
    {
     "name": "stdout",
     "output_type": "stream",
     "text": [
      "['Gato', 'Perro', 'Tortuga']\n",
      "3\n",
      "['Hurón', 'Hamster', 'Erizo de Tierra']\n",
      "3\n",
      "['Gato', 'Perro', 'Tortuga', 'Hurón', 'Hamster', 'Erizo de Tierra']\n",
      "6\n"
     ]
    }
   ],
   "source": [
    "# definamos dos listas de animales\n",
    "animales = ['Gato', 'Perro', 'Tortuga']\n",
    "animales_2 = ['Hurón', 'Hamster', 'Erizo de Tierra']\n",
    "# Si las concatenamos, podremos obtener una lista de mascotas\n",
    "mascotas = animales + animales_2\n",
    "# Veamos algunas características\n",
    "print(animales)\n",
    "print(len(animales))\n",
    "print(animales_2)\n",
    "print(len(animales_2))\n",
    "print(mascotas)\n",
    "print(len(mascotas))"
   ]
  },
  {
   "cell_type": "markdown",
   "metadata": {},
   "source": [
    "## Operaciones: repitiendo listas\n",
    "* Al utilizar el operador * con un string, se genera el mismo resultado que con los strings. Por\n",
    "ejemplo, se nos ha informado que hay 4 veces más perros, gatos y tortugas que hurones,\n",
    "hamsters y erizos de tierra, con estos datos podríamos generar una lista nueva e ingresar\n",
    "cada elemento nuevamente, pero sería tedioso para nosotros.\n",
    "* Entonces, lo que vamos a realizar es multiplicar los elementos contenidos en la lista\n",
    "mediante el operador *.\n"
   ]
  },
  {
   "cell_type": "code",
   "execution_count": 23,
   "metadata": {},
   "outputs": [
    {
     "name": "stdout",
     "output_type": "stream",
     "text": [
      "['Gato', 'Perro', 'Tortuga', 'Gato', 'Perro', 'Tortuga', 'Gato', 'Perro', 'Tortuga', 'Gato', 'Perro', 'Tortuga']\n",
      "12\n",
      "['Hurón', 'Hamster', 'Erizo de Tierra']\n",
      "3\n",
      "['Gato', 'Perro', 'Tortuga', 'Gato', 'Perro', 'Tortuga', 'Gato', 'Perro', 'Tortuga', 'Gato', 'Perro', 'Tortuga', 'Hurón', 'Hamster', 'Erizo de Tierra']\n",
      "15\n"
     ]
    }
   ],
   "source": [
    "animales_actualizados = animales * 4\n",
    "mascotas = animales_actualizados + animales_2\n",
    "# Veamos algunas características\n",
    "print(animales_actualizados)\n",
    "print(len(animales_actualizados))\n",
    "print(animales_2)\n",
    "print(len(animales_2))\n",
    "print(mascotas)\n",
    "print(len(mascotas))"
   ]
  }
 ],
 "metadata": {
  "kernelspec": {
   "display_name": "Python 3.10.5 64-bit",
   "language": "python",
   "name": "python3"
  },
  "language_info": {
   "codemirror_mode": {
    "name": "ipython",
    "version": 3
   },
   "file_extension": ".py",
   "mimetype": "text/x-python",
   "name": "python",
   "nbconvert_exporter": "python",
   "pygments_lexer": "ipython3",
   "version": "3.10.5"
  },
  "orig_nbformat": 4,
  "vscode": {
   "interpreter": {
    "hash": "5fe23d4cdea1a1fdeea398f38169f58ea6e36b10f84ee4017a8f0fee693ee786"
   }
  }
 },
 "nbformat": 4,
 "nbformat_minor": 2
}
