{
 "cells": [
  {
   "cell_type": "markdown",
   "metadata": {},
   "source": [
    "#### Necesidad de Funciones\n",
    ">Supongamos que tenemos un programa que sigue el siguiente Diagrama de Flujo:\n",
    ">\n",
    "![](fotos/funciones_000.jpg)\n",
    ">\n",
    ">Al iniciar el problema notamos que de manera secuencial se ejecutan los pasos 1, 2 y 3. El\n",
    "paso 3 es una prueba lógica que decide si el programa termina o si se deben ejecutar los\n",
    "pasos 1, 2 y 3 nuevamente.\n",
    ">\n",
    ">Podemos notar que acá se da un fenómeno de duplicación o generación de código\n",
    "redundante, donde los pasos 1, 2 y 3 están escritos dos veces y esto normalmente termina\n",
    "resultando en código que es más largo de lo necesario.\n",
    ">\n",
    ">Este problema se soluciona abstrayendo ese código dentro de una función, a la llamaremos\n",
    "todos_los_pasos() y contendrá los pasos 1, 2 y 3 de manera secuencial:\n",
    ">\n",
    "![](fotos/funciones_001.jpg)\n",
    ">\n",
    ">Haciendo esto, es posible reescribir el diagrama como se muestra en la Imagen 3, donde hay\n",
    "un inicio y un gran bloque de código todos_los_pasos(). Si es que pasa la prueba lógica se\n",
    "repite, si es que no, termina. Esto termina siendo mucho más sencillo de explicar y, por\n",
    "supuesto, de plasmar en código.\n",
    ">\n",
    "![](fotos/funciones_002.jpg)\n",
    ">\n",
    "> Hasta ahora, la idea de utilizar funciones no debiera ser un concepto ajeno. Es más, en las\n",
    "unidades anteriores ya hemos llamado funciones. Algunos ejemplo son:\n",
    ">\n",
    "> print().\n",
    ">\n",
    "> len().\n",
    ">\n",
    "> input().\n",
    ">\n",
    ">Estas funciones son propias de Python (built-in functions), es decir, ya vienen creadas en el\n",
    "lenguaje. Y aquellas a las que en este momentos estamos refiriéndonos son funciones\n",
    "definidas por el usuario (user defined functions), el programador las crea dependiendo de\n",
    "sus necesidades.\n",
    ">\n",
    ">La sintaxis más básica para definir una función es la siguiente:"
   ]
  },
  {
   "cell_type": "code",
   "execution_count": 1,
   "metadata": {},
   "outputs": [],
   "source": [
    "def nombre_de_la_funcion():\n",
    "    pass"
   ]
  },
  {
   "cell_type": "markdown",
   "metadata": {},
   "source": [
    ">def es la palabra reservada para definir la función, luego va el nombre de la función. Por\n",
    "convención, Python utiliza snake_case para los nombres y es una buena práctica utilizar\n",
    "nombres representativos de la operación que representan.\n",
    ">\n",
    ">En este caso particular pass, es una palabra reservada en Python que indica que la función\n",
    "no hace nada. Normalmente, se utiliza cuando se crea una función y aún no se define su\n",
    "uso, y al decidir el código asociado a la función, pass puede ser removido. Considera que\n",
    "pass también se encuentra indentada para definir que es parte de la función.\n",
    ">\n",
    "#### Creando nuestra primera función\n",
    ">\n",
    ">Supongamos que tenemos un programa en el que tenemos que mostrar en varias ocasiones\n",
    "un Menú:\n"
   ]
  },
  {
   "cell_type": "code",
   "execution_count": 2,
   "metadata": {},
   "outputs": [
    {
     "name": "stdout",
     "output_type": "stream",
     "text": [
      "Opciones: \n",
      "1) De acuerdo\n",
      "2) En desacuerdo\n",
      "3) No me interesa\n",
      "Opciones: \n",
      "1) De acuerdo\n",
      "2) En desacuerdo\n",
      "3) No me interesa\n",
      "Opciones: \n",
      "1) De acuerdo\n",
      "2) En desacuerdo\n",
      "3) No me interesa\n"
     ]
    }
   ],
   "source": [
    "# Se importan muchas Librerías\n",
    "################################################\n",
    "###########################################\n",
    "# Código que hace muchas cosas interesantes\n",
    "###########################################\n",
    "# Menú\n",
    "print('Opciones: ')\n",
    "print('1) De acuerdo')\n",
    "print('2) En desacuerdo')\n",
    "print('3) No me interesa')\n",
    "###############################################\n",
    "# Más código que hace muchas cosas interesantes\n",
    "###############################################\n",
    "# Nuevamente el Menú\n",
    "print('Opciones: ')\n",
    "print('1) De acuerdo')\n",
    "print('2) En desacuerdo')\n",
    "print('3) No me interesa')\n",
    "###############################################\n",
    "# Otro código que hace muchas cosas interesantes\n",
    "###############################################\n",
    "# Menú por última vez\n",
    "print('Opciones: ')\n",
    "print('1) De acuerdo')\n",
    "print('2) En desacuerdo')\n",
    "print('3) No me interesa')\n",
    "###############################################\n",
    "# Código final y fin del Programa\n",
    "###############################################\n"
   ]
  },
  {
   "cell_type": "markdown",
   "metadata": {},
   "source": [
    "> Desde el punto de vista funcional, este código no tiene nada incorrecto, ya que cada una de\n",
    "sus partes funcionan de manera correcta y podríamos dejarlo tal cual está, pero desde el\n",
    "punto de vista práctico ya empezamos a notar algunas cosas.\n",
    ">\n",
    ">El código es bastante largo aunque no hemos definido las partes del código interesante, de\n",
    "hacerlo, probablemente el código sería aún más largo.\n",
    ">\n",
    ">Luego de escribir el código notamos que el formato de las opciones debía ser:\n",
    ">\n",
    ">>print('Opciones: ')\n",
    ">\n",
    ">>print('1). De acuerdo')\n",
    ">\n",
    ">>print('2). En desacuerdo')\n",
    ">\n",
    ">>print('3). No me interesa')\n",
    ">\n",
    ">Para corregir el error debemos cambiar 12 líneas de código, lo cual es una tarea\n",
    "extremadamente tediosa y propensa a error.\n",
    ">\n",
    ">Una manera más efectiva de poder escribir este código es definiendo una función. En este\n",
    "caso, nuestra función se llamará imprimir_menu()\n",
    ">\n",
    ">imprimir_menu() es una función que condensará todo el código relacionado al menú. Al\n",
    "hacer esto nuestro programa que era extremadamente largo se reduce a lo siguiente:\n",
    "\n",
    "\n"
   ]
  },
  {
   "cell_type": "code",
   "execution_count": 3,
   "metadata": {},
   "outputs": [
    {
     "name": "stdout",
     "output_type": "stream",
     "text": [
      "Opciones: \n",
      "1) De acuerdo\n",
      "2) En desacuerdo\n",
      "3) No me interesa\n",
      "Opciones: \n",
      "1) De acuerdo\n",
      "2) En desacuerdo\n",
      "3) No me interesa\n",
      "Opciones: \n",
      "1) De acuerdo\n",
      "2) En desacuerdo\n",
      "3) No me interesa\n"
     ]
    }
   ],
   "source": [
    "# Se importan muchas Librerías\n",
    "################################################\n",
    "# definición de funciones\n",
    "def imprimir_menu():\n",
    "    print('Opciones: ')\n",
    "    print('1) De acuerdo')\n",
    "    print('2) En desacuerdo')\n",
    "    print('3) No me interesa')\n",
    "###########################################\n",
    "# Código que hace muchas cosas interesantes\n",
    "###########################################\n",
    "imprimir_menu()\n",
    "###############################################\n",
    "# Más código que hace muchas cosas interesantes\n",
    "###############################################\n",
    "imprimir_menu()\n",
    "###############################################\n",
    "# Otro código que hace muchas cosas interesantes\n",
    "###############################################\n",
    "imprimir_menu()\n",
    "###############################################\n",
    "# Código final y fin del Programa\n",
    "##############################################\n"
   ]
  },
  {
   "cell_type": "markdown",
   "metadata": {},
   "source": [
    "> **NOTA:** Cada vez que utilizamos imprimir_menu() sin la palabra def estamos\n",
    "invocando la función, lo que quiere decir que estamos ejecutando el código al\n",
    "interior de la función. Por su parte, la invocación de una función se puede realizar\n",
    "solo después de haberla definido, por eso se hace buena práctica definir todas las funciones\n",
    "del usuario al inicio del código. Si una función no se invoca, el código en su interior nunca\n",
    "será ejecutado.\n",
    ">\n",
    "> **NOTA 2:** Es muy importante recalcar que para invocar una función es imperativo\n",
    "utilizar paréntesis de la siguiente forma: imprimir_menu(). En el caso de no\n",
    "hacerlo se obtendrá algo así:"
   ]
  },
  {
   "cell_type": "code",
   "execution_count": 4,
   "metadata": {},
   "outputs": [
    {
     "data": {
      "text/plain": [
       "<function __main__.imprimir_menu()>"
      ]
     },
     "execution_count": 4,
     "metadata": {},
     "output_type": "execute_result"
    }
   ],
   "source": [
    "imprimir_menu"
   ]
  },
  {
   "cell_type": "markdown",
   "metadata": {},
   "source": [
    "> Ahora el código de programa.py no solo es más corto, sino que el uso de funciones entrega\n",
    "otras ventajas, por ejemplo, en el caso de querer cambiar el formato del menú, solo tenemos\n",
    "que modificar la función imprimir_menu().\n",
    ">\n",
    ">Si queremos modificar el menú solo agregamos el punto a 4 líneas y no a todas las veces\n",
    "que aparece el menú:"
   ]
  },
  {
   "cell_type": "code",
   "execution_count": 5,
   "metadata": {},
   "outputs": [
    {
     "name": "stdout",
     "output_type": "stream",
     "text": [
      "Opciones: \n",
      "1). De acuerdo\n",
      "2). En desacuerdo\n",
      "3). No me interesa\n",
      "Opciones: \n",
      "1). De acuerdo\n",
      "2). En desacuerdo\n",
      "3). No me interesa\n",
      "Opciones: \n",
      "1). De acuerdo\n",
      "2). En desacuerdo\n",
      "3). No me interesa\n"
     ]
    }
   ],
   "source": [
    "# Se importan muchas Librerías\n",
    "################################################\n",
    "# definición de funciones\n",
    "def imprimir_menu():\n",
    "    print('Opciones: ')\n",
    "    print('1). De acuerdo')\n",
    "    print('2). En desacuerdo')\n",
    "    print('3). No me interesa')\n",
    "###########################################\n",
    "# Código que hace muchas cosas interesantes\n",
    "###########################################\n",
    "imprimir_menu()\n",
    "###############################################\n",
    "# Más código que hace muchas cosas interesantes\n",
    "###############################################\n",
    "imprimir_menu()\n",
    "###############################################\n",
    "# Otro código que hace muchas cosas interesantes\n",
    "###############################################\n",
    "imprimir_menu()\n",
    "###############################################\n",
    "# Código final y fin del Programa\n",
    "##############################################"
   ]
  },
  {
   "cell_type": "markdown",
   "metadata": {},
   "source": [
    "#### Parámetros y Argumentos\n",
    ">\n",
    ">Un parámetro es un elemento que podrá ser utilizado dentro de la función para realizar sus\n",
    "cálculos. El uso de un parámetro, como dijimos anteriormente, permite crear funciones que\n",
    "son reutilizables en muchos casos.\n",
    ">\n",
    ">Veamos el siguiente ejemplo:\n"
   ]
  },
  {
   "cell_type": "code",
   "execution_count": 7,
   "metadata": {},
   "outputs": [
    {
     "name": "stdout",
     "output_type": "stream",
     "text": [
      "4\n",
      "9\n",
      "16\n"
     ]
    }
   ],
   "source": [
    "def dos_elevado_2():\n",
    "    print(2**2)\n",
    "def tres_elevado_2():\n",
    "    print(3**2)\n",
    "def cuatro_elevado_2():\n",
    "    print(4**2)\n",
    "\n",
    "dos_elevado_2()\n",
    "tres_elevado_2()\n",
    "cuatro_elevado_2()"
   ]
  },
  {
   "cell_type": "markdown",
   "metadata": {},
   "source": [
    "> Acabamos de definir 3 funciones que, si bien son muy similares, hacen dos operaciones\n",
    "distintas, donde todas toman un número y lo elevan al cuadrado, pero el problema es que\n",
    "son números distintos.\n",
    ">\n",
    ">El uso de parámetros, nos permite entonces utilizar una sola función, pero con la\n",
    "funcionalidad de las 3 funciones mostradas anteriormente y muchas otras más:"
   ]
  },
  {
   "cell_type": "code",
   "execution_count": 8,
   "metadata": {},
   "outputs": [
    {
     "name": "stdout",
     "output_type": "stream",
     "text": [
      "4\n",
      "9\n",
      "16\n"
     ]
    }
   ],
   "source": [
    "def elevado_2(x):\n",
    "    print(x**2)\n",
    "elevado_2(2)\n",
    "elevado_2(3)\n",
    "elevado_2(4)\n"
   ]
  },
  {
   "cell_type": "markdown",
   "metadata": {},
   "source": [
    "> En este caso la función está elevando al cuadrado los números 2, 3 y 4, donde estos valores\n",
    "se denominan argumentos. Un argumento corresponde a los valores que tomará el\n",
    "parámetro para ser utilizado dentro de la función.\n",
    ">\n",
    ">Cabe recalcar que no estamos restringidos a la utilización de un solo parámetro al momento\n",
    "de definir nuestra función, ya que es posible utilizar todos los que sean necesarios. Para\n",
    "entregar más flexibilidad, podríamos incluso dar un parámetro como exponente.\n"
   ]
  },
  {
   "cell_type": "code",
   "execution_count": 9,
   "metadata": {},
   "outputs": [
    {
     "name": "stdout",
     "output_type": "stream",
     "text": [
      "4\n",
      "27\n",
      "16\n"
     ]
    }
   ],
   "source": [
    "def elevar(x,y):\n",
    "    print(x**y)\n",
    "elevar(2,2)\n",
    "elevar(3,3)\n",
    "elevar(4,2)\n"
   ]
  },
  {
   "cell_type": "markdown",
   "metadata": {},
   "source": [
    "> Otro alcance importante de hacer es que, al igual que las funciones, las buenas prácticas\n",
    "indican que los parámetros también siguen una convención snake_case y el nombre debe\n",
    "ser representativo de su funcionalidad. Por lo tanto, una mejor representación de la función\n",
    "sería:"
   ]
  },
  {
   "cell_type": "code",
   "execution_count": 10,
   "metadata": {},
   "outputs": [
    {
     "name": "stdout",
     "output_type": "stream",
     "text": [
      "4\n",
      "27\n",
      "16\n"
     ]
    }
   ],
   "source": [
    "def elevar(base, exponente):\n",
    "    print(base**exponente)\n",
    "elevar(2,2)\n",
    "elevar(3,3)\n",
    "elevar(4,2)"
   ]
  },
  {
   "cell_type": "markdown",
   "metadata": {},
   "source": [
    "> De esta manera, se tiene mayor claridad acerca de qué hace cada parámetro de la función.\n",
    ">\n",
    "> **NOTA:** Los parámetros pueden ser cualquiera de los tipos de datos vistos\n",
    "anteriormente. Incluso estos podrían ser estructuras de datos."
   ]
  },
  {
   "cell_type": "markdown",
   "metadata": {},
   "source": [
    "#### Tipos de Argumentos\n",
    "> Como se revisó en el capítulo anterior, los argumentos son aquellos valores que toman los\n",
    "parámetros de una función para poder ejecutar el código al interior de ellas, y al interior,\n",
    "pueden ser de cualquier tipo de dato, pero también pueden corresponder a estructuras de\n",
    "datos.\n",
    ">\n",
    ">Calcular el máximo y el mínimo valor de una lista:"
   ]
  },
  {
   "cell_type": "code",
   "execution_count": 11,
   "metadata": {},
   "outputs": [
    {
     "name": "stdout",
     "output_type": "stream",
     "text": [
      "El valor mínimo es 2\n",
      "El valor mínimo es 7\n"
     ]
    }
   ],
   "source": [
    "def extremos(lista):\n",
    "    minimo = min(lista)\n",
    "    maximo = max(lista)\n",
    "    print(f\"El valor mínimo es {minimo}\")\n",
    "    print(f\"El valor mínimo es {maximo}\")\n",
    "extremos([3,5,2,7])\n"
   ]
  },
  {
   "cell_type": "markdown",
   "metadata": {},
   "source": [
    "> Filtrar los elementos de un diccionario que cuestan más de cierto valor:"
   ]
  },
  {
   "cell_type": "code",
   "execution_count": 12,
   "metadata": {},
   "outputs": [
    {
     "data": {
      "text/plain": [
       "{'Notebook': 700000,\n",
       " 'Teclado': 25000,\n",
       " 'Monitor': 250000,\n",
       " 'Escritorio': 135000,\n",
       " 'Tarjeta de Video': 1500000}"
      ]
     },
     "execution_count": 12,
     "metadata": {},
     "output_type": "execute_result"
    }
   ],
   "source": [
    "precios = {'Notebook': 700000,\n",
    "           'Teclado': 25000,\n",
    "           'Mouse': 12000,\n",
    "           'Monitor': 250000,\n",
    "           'Escritorio': 135000,\n",
    "           'Tarjeta de Video': 1500000}\n",
    "def filtrar(diccionario, umbral):\n",
    "    filtro = {k:v for k,v in diccionario.items() if v > umbral}\n",
    "    return filtro\n",
    "filtrar(precios, 12000)\n"
   ]
  },
  {
   "cell_type": "markdown",
   "metadata": {},
   "source": [
    "#### Funciones como argumentos\n",
    "> Es bueno mencionar que en Python no estamos restringidos a utilizar solo valores o\n",
    "estructuras de datos como argumentos, de hecho, podríamos utilizar incluso funciones.\n",
    ">\n",
    "> Para ello es importante hacer la siguiente salvedad, en el caso de pasar una función como\n",
    "parámetro SÓLO se debe utilizar el nombre, sin paréntesis.\n",
    ">\n",
    ">Por ejemplo, generemos una función que entregue el tipo de dato de cada uno de los\n",
    "elementos en una lista. Se requiere además que según se solicite la suma de sus elementos\n",
    "o el conteo de sus elementos.\n"
   ]
  },
  {
   "cell_type": "code",
   "execution_count": 14,
   "metadata": {},
   "outputs": [
    {
     "name": "stdout",
     "output_type": "stream",
     "text": [
      "[<class 'str'>, <class 'str'>, <class 'str'>, <class 'str'>, <class 'str'>]\n",
      "5\n"
     ]
    }
   ],
   "source": [
    "def sumar_contar_tipos(lista,funcion):\n",
    "    tipos = [type(elemento) for elemento in lista]\n",
    "    opcion = funcion(lista)\n",
    "    return tipos, opcion\n",
    "lista_numeros = [1,2,3,4,5]\n",
    "lista_string = ['a','b','c','d','e']\n",
    "tipo, conteo = sumar_contar_tipos(lista_string, len)\n",
    "print(tipo)\n",
    "print(conteo)\n",
    "\n"
   ]
  },
  {
   "cell_type": "markdown",
   "metadata": {},
   "source": [
    ">Esta función devolverá los tipos y un valor que puede variar dependiendo de la función a\n",
    "utilizar. Para probar el funcionamiento de esta función crearemos dos listas, una de\n",
    "números y otra de strings.\n",
    ">\n",
    ">lista_numeros = [1,2,3,4,5]\n",
    ">\n",
    ">lista_string = ['a','b','c','d','e']\n",
    ">\n",
    ">Si ejecutamos la función con una lista de strings probablemente haga más sentido contar el\n",
    "número de elementos que contiene:\n"
   ]
  },
  {
   "cell_type": "code",
   "execution_count": 15,
   "metadata": {},
   "outputs": [
    {
     "name": "stdout",
     "output_type": "stream",
     "text": [
      "[<class 'int'>, <class 'int'>, <class 'int'>, <class 'int'>, <class 'int'>]\n",
      "15\n"
     ]
    }
   ],
   "source": [
    "#Pero en el caso que contenga números, me interesará sumar los valores en su interior:\n",
    "tipo, suma = sumar_contar_tipos(lista_numeros, sum)\n",
    "print(tipo)\n",
    "print(suma)\n",
    "\n"
   ]
  },
  {
   "cell_type": "markdown",
   "metadata": {},
   "source": [
    "#### Parámetros Obligatorios\n",
    "> Los parámetros obligatorios son aquellos que hemos estado utilizando hasta ahora. Es\n",
    "importante recalcar que el carácter obligatorio se da porque en caso de no ingresar el\n",
    "argumento respectivo la función fallará.\n",
    ">\n",
    ">Ejemplo:\n"
   ]
  },
  {
   "cell_type": "code",
   "execution_count": 16,
   "metadata": {},
   "outputs": [
    {
     "ename": "TypeError",
     "evalue": "elevar() missing 1 required positional argument: 'exponente'",
     "output_type": "error",
     "traceback": [
      "\u001b[1;31m---------------------------------------------------------------------------\u001b[0m",
      "\u001b[1;31mTypeError\u001b[0m                                 Traceback (most recent call last)",
      "\u001b[1;32mc:\\Users\\dmard\\Documents\\GitHub\\Programacion-en-Python\\Notebook\\funciones.ipynb Celda 29\u001b[0m in \u001b[0;36m<cell line: 3>\u001b[1;34m()\u001b[0m\n\u001b[0;32m      <a href='vscode-notebook-cell:/c%3A/Users/dmard/Documents/GitHub/Programacion-en-Python/Notebook/funciones.ipynb#ch0000029?line=0'>1</a>\u001b[0m \u001b[39mdef\u001b[39;00m \u001b[39melevar\u001b[39m(base,exponente):\n\u001b[0;32m      <a href='vscode-notebook-cell:/c%3A/Users/dmard/Documents/GitHub/Programacion-en-Python/Notebook/funciones.ipynb#ch0000029?line=1'>2</a>\u001b[0m     \u001b[39mreturn\u001b[39;00m base\u001b[39m*\u001b[39m\u001b[39m*\u001b[39mexponente\n\u001b[1;32m----> <a href='vscode-notebook-cell:/c%3A/Users/dmard/Documents/GitHub/Programacion-en-Python/Notebook/funciones.ipynb#ch0000029?line=2'>3</a>\u001b[0m \u001b[39mprint\u001b[39m(elevar(\u001b[39m2\u001b[39;49m))\n",
      "\u001b[1;31mTypeError\u001b[0m: elevar() missing 1 required positional argument: 'exponente'"
     ]
    }
   ],
   "source": [
    "def elevar(base,exponente):\n",
    "    return base**exponente\n",
    "print(elevar(2))\n"
   ]
  },
  {
   "cell_type": "markdown",
   "metadata": {},
   "source": [
    ">Como se puede ver, al no ingresar el argumento correspondiente a exponente, Python\n",
    "inmediatamente alertará que la función no está recibiendo los argumentos necesarios para\n",
    "trabajar correctamente, pero ingresando el argumento faltante, la función entregará los\n",
    "resultados esperados.\n"
   ]
  },
  {
   "cell_type": "code",
   "execution_count": 17,
   "metadata": {},
   "outputs": [
    {
     "name": "stdout",
     "output_type": "stream",
     "text": [
      "8\n"
     ]
    }
   ],
   "source": [
    "print(elevar(2,3))"
   ]
  },
  {
   "cell_type": "markdown",
   "metadata": {},
   "source": [
    "> Otro aspecto importante es que los argumentos correspondientes a parámetros obligatorios\n",
    "deben ser rellenados en el mismo orden que se definieron.\n",
    ">\n",
    ">Por ejemplo:\n"
   ]
  },
  {
   "cell_type": "code",
   "execution_count": 18,
   "metadata": {},
   "outputs": [
    {
     "ename": "TypeError",
     "evalue": "'int' object is not iterable",
     "output_type": "error",
     "traceback": [
      "\u001b[1;31m---------------------------------------------------------------------------\u001b[0m",
      "\u001b[1;31mTypeError\u001b[0m                                 Traceback (most recent call last)",
      "\u001b[1;32mc:\\Users\\dmard\\Documents\\GitHub\\Programacion-en-Python\\Notebook\\funciones.ipynb Celda 33\u001b[0m in \u001b[0;36m<cell line: 5>\u001b[1;34m()\u001b[0m\n\u001b[0;32m      <a href='vscode-notebook-cell:/c%3A/Users/dmard/Documents/GitHub/Programacion-en-Python/Notebook/funciones.ipynb#ch0000033?line=2'>3</a>\u001b[0m     maximo \u001b[39m=\u001b[39m \u001b[39mmax\u001b[39m(lista)\n\u001b[0;32m      <a href='vscode-notebook-cell:/c%3A/Users/dmard/Documents/GitHub/Programacion-en-Python/Notebook/funciones.ipynb#ch0000033?line=3'>4</a>\u001b[0m     \u001b[39mreturn\u001b[39;00m factor\u001b[39m*\u001b[39mminimo, factor\u001b[39m*\u001b[39mmaximo\n\u001b[1;32m----> <a href='vscode-notebook-cell:/c%3A/Users/dmard/Documents/GitHub/Programacion-en-Python/Notebook/funciones.ipynb#ch0000033?line=4'>5</a>\u001b[0m \u001b[39mprint\u001b[39m(extremo_multiplicado(\u001b[39m4\u001b[39;49m,[\u001b[39m1\u001b[39;49m,\u001b[39m2\u001b[39;49m,\u001b[39m3\u001b[39;49m,\u001b[39m4\u001b[39;49m]))\n",
      "\u001b[1;32mc:\\Users\\dmard\\Documents\\GitHub\\Programacion-en-Python\\Notebook\\funciones.ipynb Celda 33\u001b[0m in \u001b[0;36mextremo_multiplicado\u001b[1;34m(lista, factor)\u001b[0m\n\u001b[0;32m      <a href='vscode-notebook-cell:/c%3A/Users/dmard/Documents/GitHub/Programacion-en-Python/Notebook/funciones.ipynb#ch0000033?line=0'>1</a>\u001b[0m \u001b[39mdef\u001b[39;00m \u001b[39mextremo_multiplicado\u001b[39m(lista,factor):\n\u001b[1;32m----> <a href='vscode-notebook-cell:/c%3A/Users/dmard/Documents/GitHub/Programacion-en-Python/Notebook/funciones.ipynb#ch0000033?line=1'>2</a>\u001b[0m     minimo \u001b[39m=\u001b[39m \u001b[39mmin\u001b[39;49m(lista)\n\u001b[0;32m      <a href='vscode-notebook-cell:/c%3A/Users/dmard/Documents/GitHub/Programacion-en-Python/Notebook/funciones.ipynb#ch0000033?line=2'>3</a>\u001b[0m     maximo \u001b[39m=\u001b[39m \u001b[39mmax\u001b[39m(lista)\n\u001b[0;32m      <a href='vscode-notebook-cell:/c%3A/Users/dmard/Documents/GitHub/Programacion-en-Python/Notebook/funciones.ipynb#ch0000033?line=3'>4</a>\u001b[0m     \u001b[39mreturn\u001b[39;00m factor\u001b[39m*\u001b[39mminimo, factor\u001b[39m*\u001b[39mmaximo\n",
      "\u001b[1;31mTypeError\u001b[0m: 'int' object is not iterable"
     ]
    }
   ],
   "source": [
    "def extremo_multiplicado(lista,factor):\n",
    "    minimo = min(lista)\n",
    "    maximo = max(lista)\n",
    "    return factor*minimo, factor*maximo\n",
    "print(extremo_multiplicado(4,[1,2,3,4]))\n"
   ]
  },
  {
   "cell_type": "markdown",
   "metadata": {},
   "source": [
    "> En este caso, los argumentos se ingresaron en un orden distinto, por lo tanto, levanta como\n",
    "Error que no es posible calcular el mínimo a un valor entero, ya que la función min() espera\n",
    "un iterable, no un entero. Para solucionar esto existen dos alternativas, reordenar los\n",
    "argumentos o referenciarlos:"
   ]
  },
  {
   "cell_type": "code",
   "execution_count": 19,
   "metadata": {},
   "outputs": [
    {
     "name": "stdout",
     "output_type": "stream",
     "text": [
      "(4, 16)\n",
      "(4, 16)\n"
     ]
    }
   ],
   "source": [
    "print(extremo_multiplicado([1,2,3,4], 4)) # se entregan en orden\n",
    "print(extremo_multiplicado(factor = 4, lista = [1,2,3,4]))"
   ]
  },
  {
   "cell_type": "markdown",
   "metadata": {},
   "source": [
    "> **NOTA:** En particular en funciones que tienen muchos parámetros (estas pueden ser\n",
    "definidas por el usuario o predefinidas en alguna librería de Python) el referenciar el\n",
    "parámetro es de gran utilidad para que otros usuarios puedan entender qué\n",
    "argumentos necesita la función.\n",
    ">\n",
    ">Parámetros Opcionales o por Defecto\n",
    "Existen casos en los cuales queremos utilizar un parámetro solo en ciertas ocasiones o para\n",
    "diferenciar el comportamiento de la función, es decir, el parámetro será opcional, y no\n",
    "siempre habrá que definirlo. Esto quiere decir que cuando no se defina, este tomará un valor\n",
    "por defecto.\n",
    ">\n",
    ">Por ejemplo, podríamos querer que nuestra función elevar, pudiera redondear el resultado a\n",
    "2 decimales en algunas ocasiones:\n",
    "\n"
   ]
  },
  {
   "cell_type": "code",
   "execution_count": 24,
   "metadata": {},
   "outputs": [],
   "source": [
    "def elevar(base, exponente, redondear = False):\n",
    "    if redondear:\n",
    "        valor = round(base**exponente,2)\n",
    "    else:\n",
    "        valor = base**exponente\n",
    "        return valor"
   ]
  },
  {
   "cell_type": "markdown",
   "metadata": {},
   "source": [
    "> **NOTA:** Cuando una función contiene parámetros obligatorios y opcionales,\n",
    "primero deben definirse todos los parámetros obligatorios y luego los opcionales."
   ]
  },
  {
   "cell_type": "code",
   "execution_count": 25,
   "metadata": {},
   "outputs": [
    {
     "name": "stdout",
     "output_type": "stream",
     "text": [
      "8\n"
     ]
    }
   ],
   "source": [
    "print(elevar(2, 3))"
   ]
  },
  {
   "cell_type": "markdown",
   "metadata": {},
   "source": [
    "> Por defecto, el parámetro redondear es False, por lo tanto, se ejecutará la segunda parte del\n",
    "bloque if, es decir, no habrá redondeo, esto debido al parámetro opcional de la función, se\n",
    "podría explícitamente definir el valor de redondear y obtener otra funcionalidad:"
   ]
  },
  {
   "cell_type": "code",
   "execution_count": 26,
   "metadata": {},
   "outputs": [
    {
     "name": "stdout",
     "output_type": "stream",
     "text": [
      "None\n"
     ]
    }
   ],
   "source": [
    "print(elevar(2, 3, redondear = True))"
   ]
  },
  {
   "cell_type": "markdown",
   "metadata": {},
   "source": [
    "> **NOTA:** Si bien es posible seguir la misma lógica de orden de los argumentos\n",
    "obligatorios, normalmente cuando se trata de argumentos opcionales siempre es\n",
    "buena idea referenciarlos ya que en este tipo de aplicaciones estarán entregando\n",
    "funcionalidades distintas a cuando el parámetro es omitido.\n",
    ">\n",
    ">Los parámetros, por defecto, tienen la posibilidad de tomar cualquier valor, esto quiere decir\n",
    "que puede tomar cualquier tipo de dato o cualquier estructura de dato, e incluso, podría no\n",
    "tomar ningún valor. Esto puede sonar extraño, pero es posible incluso que no tome ningún\n",
    "valor utilizando la palabra reservada None, de esta manera se genera el parámetro de\n",
    "carácter opcional pero sin valor por defecto.\n",
    ">\n",
    ">Por ejemplo, creamos una función que divida las palabras de un string en una lista, además,\n",
    "hay veces que nos interesaría retornar el número de ocurrencias de una letra. En este caso\n",
    "no tiene sentido el valor por defecto, pero sí el parámetro opcional:\n"
   ]
  },
  {
   "cell_type": "code",
   "execution_count": 27,
   "metadata": {},
   "outputs": [
    {
     "name": "stdout",
     "output_type": "stream",
     "text": [
      "['hola', 'como', 'estás?']\n"
     ]
    }
   ],
   "source": [
    "def dividir_texto(texto, contar = None):\n",
    "    lista_palabras = texto.split(' ')\n",
    "    if contar is None:\n",
    "        return lista_palabras\n",
    "    else:\n",
    "        conteo = texto.count(contar)\n",
    "        return lista_palabras, conteo\n",
    "print(dividir_texto('hola como estás?'))\n"
   ]
  },
  {
   "cell_type": "markdown",
   "metadata": {},
   "source": [
    "En este caso, si se omite el parámetro se devuelve la lista con las palabras, pero en el caso\n",
    "de agregar un string, contaría la ocurrencia de dicha string en el texto dado. Por ejemplo:"
   ]
  },
  {
   "cell_type": "code",
   "execution_count": 28,
   "metadata": {},
   "outputs": [
    {
     "name": "stdout",
     "output_type": "stream",
     "text": [
      "La lista de palabras es: ['hola', 'como', 'estás?']\n",
      "El número de letras s es: 2\n"
     ]
    }
   ],
   "source": [
    "lista_palabras, num_s = dividir_texto('hola como estás?', contar = 's')\n",
    "print(f'La lista de palabras es: {lista_palabras}')\n",
    "print(f'El número de letras s es: {num_s}')"
   ]
  },
  {
   "cell_type": "markdown",
   "metadata": {},
   "source": [
    "#### *Args y **Kwargs\n",
    ">\n",
    ">Los *args y **kwargs son un tipo de parámetro especial que permiten entregar extra\n",
    "flexibilidad a una función. La mejor manera de explicar esto es mediante el siguiente\n",
    "ejemplo:\n",
    ">\n",
    ">Supongamos que queremos una función que reciba dos números como parámetros y los\n",
    "sume:"
   ]
  },
  {
   "cell_type": "code",
   "execution_count": 29,
   "metadata": {},
   "outputs": [],
   "source": [
    "def suma_2(n_1, n_2):\n",
    "    return n_1 + n_2"
   ]
  },
  {
   "cell_type": "markdown",
   "metadata": {},
   "source": [
    "> Pero ¿qué sucedería si quiero sumar 3 números? Esta función sólo recibe 2 argumentos, no\n",
    "es posible agregar un 3ero. Bueno, creemos entonces una nueva función que sí reciba 3\n",
    "argumentos."
   ]
  },
  {
   "cell_type": "code",
   "execution_count": 30,
   "metadata": {},
   "outputs": [],
   "source": [
    "def suma_3(n_1, n_2, n_3):\n",
    "    return n_1 + n_2 + n_3"
   ]
  },
  {
   "cell_type": "markdown",
   "metadata": {},
   "source": [
    "> Y ¿si ahora queremos sumar 4? Se extiende el problema. Quisiéramos tener una función que\n",
    "fuera lo suficientemente flexible como para recibir parámetros variables dependiendo de los\n",
    "que se necesitaran.\n",
    ">\n",
    ">Ahí es donde entran los *args. Los *args permiten utilizar tantos parámetros como sean\n",
    "necesarios sin la necesidad de que sean definidos a priori. Por ejemplo, podríamos crear la\n",
    "función suma() que sea la solución genérica:\n",
    "\n"
   ]
  },
  {
   "cell_type": "code",
   "execution_count": 31,
   "metadata": {},
   "outputs": [],
   "source": [
    "def suma(*numeros):\n",
    "    return sum(numeros)"
   ]
  },
  {
   "cell_type": "markdown",
   "metadata": {},
   "source": [
    "> **NOTA:** Para que un parámetro se reconozca como *args tiene que venir precedido\n",
    "de * al momento de la definición. El nombre *args puede ser el que el usuario\n",
    "decida.\n",
    ">\n",
    ">Si ahora invocamos la función notaremos que funciona independientemente del número de\n",
    "argumentos que ingresemos:"
   ]
  },
  {
   "cell_type": "code",
   "execution_count": 32,
   "metadata": {},
   "outputs": [
    {
     "name": "stdout",
     "output_type": "stream",
     "text": [
      "2\n",
      "6\n",
      "7\n"
     ]
    }
   ],
   "source": [
    "print(suma(2))\n",
    "print(suma(2,4))\n",
    "print(suma(2,-4,9,0))"
   ]
  },
  {
   "cell_type": "markdown",
   "metadata": {},
   "source": [
    "> La razón por la que esto funciona se puede explicar por el siguiente ejemplo:"
   ]
  },
  {
   "cell_type": "code",
   "execution_count": 33,
   "metadata": {},
   "outputs": [
    {
     "name": "stdout",
     "output_type": "stream",
     "text": [
      "<class 'tuple'>\n"
     ]
    }
   ],
   "source": [
    "def f(*args):\n",
    "    return args\n",
    "output = f(1,[2,3],'hola',{'clave':[4]})\n",
    "print(type(output))"
   ]
  },
  {
   "cell_type": "markdown",
   "metadata": {},
   "source": [
    "> Como se puede ver todos los elementos que se pasan como *args pasan a ser parte de una\n",
    "tupla. Por lo tanto, se pueden trabajar directamente como una tupla o convertirse en alguna\n",
    "otra estructura de datos dependiendo del objetivo.\n",
    ">\n",
    ">Por otro lado, los **kwargs funcionan de manera muy similar, también permitirán un número\n",
    "indeterminado de argumentos, pero estos argumentos deben incluir un nombre ya que el\n",
    "nombre del argumento también pasará a la función.\n",
    ">\n",
    ">Si hacemos un ejercicio similar al que hicimos con los *args:\n"
   ]
  },
  {
   "cell_type": "code",
   "execution_count": 34,
   "metadata": {},
   "outputs": [
    {
     "name": "stdout",
     "output_type": "stream",
     "text": [
      "<class 'dict'>\n"
     ]
    }
   ],
   "source": [
    "def f(**kwargs):\n",
    "    return kwargs\n",
    "output = f(valor = 1, texto = 'hola', lista_nombres = [4,5,6,7])\n",
    "print(type(output))\n"
   ]
  },
  {
   "cell_type": "markdown",
   "metadata": {},
   "source": [
    "> **NOTA:** Para que un parámetro se reconozca como **kwargs tiene que venir\n",
    "precedido de ** al momento de la definición. El nombre del **kwargs puede ser el\n",
    "que el usuario decida.\n",
    ">\n",
    "> Podemos observar que todos los argumentos pasados como **kwargs serán contenidos\n",
    "dentro de un diccionario. Donde el nombre del argumento será la clave asociada a cada\n",
    "valor.\n",
    ">\n",
    "> **NOTA:** Para un correcto funcionamiento de los distintos parámetros de la función\n",
    "se debe siempre seguir la jerarquía correspondiente, es decir, se definen en el\n",
    "siguiente orden:\n",
    "* Parámetros Obligatorios\n",
    "* Parámetros Opcionales\n",
    "* *args\n",
    "* **kwargs\n",
    "\n",
    "\n"
   ]
  },
  {
   "cell_type": "markdown",
   "metadata": {},
   "source": [
    "> Ejercicio Guiado 1: Expandiendo los diccionarios\n",
    ">\n",
    ">Como hemos aprendido hasta ahora, los diccionarios son estructuras clave valor, es decir, si\n",
    "yo les solicito una clave, ellos devuelven un valor. Lamentablemente esta operación se\n",
    "realiza de un par a la vez. ¿Qué pasa si yo quisiera extraer más de una clave? Actualmente\n",
    "eso devuelve un error.\n",
    ">\n",
    "1. Creemos el script get_multiple.py.\n",
    "2. Posteriormente definamos una función que permita tomar muchas claves. Lo más\n",
    "apropiado para esto será utilizar un *arg. Es por ello que la función solicitará un\n",
    "parámetro llamado diccionario que será el diccionario del que se extraerán las claves\n",
    "y *claves serán las distintas claves a extraer.\n",
    "3. Dado que no es posible sacar sólo una clave, será necesario iterar por el diccionario\n",
    "chequeando si existen todas esas claves. Recordar que los *args serán una tupla, la\n",
    "que puede ser iterada igual que una lista, por lo que usaremos un Dictionary\n",
    "Comprehension.\n",
    "> El diccionario resultante sólo llamara las claves que están ingresadas dentro del arg\n",
    "claves y contendrán la clave y el valor asociado a esa clave.\n",
    "4. Finalmente, tomemos un diccionario cualquiera y probemos si es posible devolver\n",
    "varias de sus claves.\n",
    "\n",
    "\n"
   ]
  },
  {
   "cell_type": "code",
   "execution_count": 35,
   "metadata": {},
   "outputs": [
    {
     "name": "stdout",
     "output_type": "stream",
     "text": [
      "{'manzana': 'verde', 'platano': 'amarillo'}\n"
     ]
    }
   ],
   "source": [
    "def get_multiple(diccionario, *claves):\n",
    "    pass\n",
    "\n",
    "def get_multiple(diccionario, *claves):\n",
    "    return {clave: diccionario[clave] for clave in claves}\n",
    "\n",
    "diccionario_prueba = {'manzana': 'verde',\n",
    "                      'platano': 'amarillo',}\n",
    "resultado = get_multiple(diccionario_prueba, 'manzana', 'platano')\n",
    "print(resultado)"
   ]
  },
  {
   "cell_type": "markdown",
   "metadata": {},
   "source": [
    "> Gracias a parámetros especiales como son los *args es posible definir funcionalidades que\n",
    "no vienen incluidas por defecto en Python. En este caso se pudieron extraer los valores\n",
    "asociados a las claves manzana y plátano, a pesar de que Python por defecto no lo permite."
   ]
  }
 ],
 "metadata": {
  "kernelspec": {
   "display_name": "Python 3.10.5 64-bit",
   "language": "python",
   "name": "python3"
  },
  "language_info": {
   "codemirror_mode": {
    "name": "ipython",
    "version": 3
   },
   "file_extension": ".py",
   "mimetype": "text/x-python",
   "name": "python",
   "nbconvert_exporter": "python",
   "pygments_lexer": "ipython3",
   "version": "3.10.5"
  },
  "orig_nbformat": 4,
  "vscode": {
   "interpreter": {
    "hash": "5fe23d4cdea1a1fdeea398f38169f58ea6e36b10f84ee4017a8f0fee693ee786"
   }
  }
 },
 "nbformat": 4,
 "nbformat_minor": 2
}
