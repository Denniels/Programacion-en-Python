{
 "cells": [
  {
   "cell_type": "markdown",
   "metadata": {},
   "source": [
    "#### Necesidad de Funciones\n",
    ">Supongamos que tenemos un programa que sigue el siguiente Diagrama de Flujo:\n",
    ">\n",
    "![](fotos/funciones_000.jpg)\n",
    ">\n",
    ">Al iniciar el problema notamos que de manera secuencial se ejecutan los pasos 1, 2 y 3. El\n",
    "paso 3 es una prueba lógica que decide si el programa termina o si se deben ejecutar los\n",
    "pasos 1, 2 y 3 nuevamente.\n",
    ">\n",
    ">Podemos notar que acá se da un fenómeno de duplicación o generación de código\n",
    "redundante, donde los pasos 1, 2 y 3 están escritos dos veces y esto normalmente termina\n",
    "resultando en código que es más largo de lo necesario.\n",
    ">\n",
    ">Este problema se soluciona abstrayendo ese código dentro de una función, a la llamaremos\n",
    "todos_los_pasos() y contendrá los pasos 1, 2 y 3 de manera secuencial:\n",
    ">\n",
    "![](fotos/funciones_001.jpg)\n",
    ">\n",
    ">Haciendo esto, es posible reescribir el diagrama como se muestra en la Imagen 3, donde hay\n",
    "un inicio y un gran bloque de código todos_los_pasos(). Si es que pasa la prueba lógica se\n",
    "repite, si es que no, termina. Esto termina siendo mucho más sencillo de explicar y, por\n",
    "supuesto, de plasmar en código.\n",
    ">\n",
    "![](fotos/funciones_002.jpg)\n",
    ">\n",
    "> Hasta ahora, la idea de utilizar funciones no debiera ser un concepto ajeno. Es más, en las\n",
    "unidades anteriores ya hemos llamado funciones. Algunos ejemplo son:\n",
    ">\n",
    "> print().\n",
    ">\n",
    "> len().\n",
    ">\n",
    "> input().\n",
    ">\n",
    ">Estas funciones son propias de Python (built-in functions), es decir, ya vienen creadas en el\n",
    "lenguaje. Y aquellas a las que en este momentos estamos refiriéndonos son funciones\n",
    "definidas por el usuario (user defined functions), el programador las crea dependiendo de\n",
    "sus necesidades.\n",
    ">\n",
    ">La sintaxis más básica para definir una función es la siguiente:"
   ]
  },
  {
   "cell_type": "code",
   "execution_count": 1,
   "metadata": {},
   "outputs": [],
   "source": [
    "def nombre_de_la_funcion():\n",
    "    pass"
   ]
  },
  {
   "cell_type": "markdown",
   "metadata": {},
   "source": [
    ">def es la palabra reservada para definir la función, luego va el nombre de la función. Por\n",
    "convención, Python utiliza snake_case para los nombres y es una buena práctica utilizar\n",
    "nombres representativos de la operación que representan.\n",
    ">\n",
    ">En este caso particular pass, es una palabra reservada en Python que indica que la función\n",
    "no hace nada. Normalmente, se utiliza cuando se crea una función y aún no se define su\n",
    "uso, y al decidir el código asociado a la función, pass puede ser removido. Considera que\n",
    "pass también se encuentra indentada para definir que es parte de la función.\n",
    ">\n",
    "#### Creando nuestra primera función\n",
    ">\n",
    ">Supongamos que tenemos un programa en el que tenemos que mostrar en varias ocasiones\n",
    "un Menú:\n"
   ]
  },
  {
   "cell_type": "code",
   "execution_count": 2,
   "metadata": {},
   "outputs": [
    {
     "name": "stdout",
     "output_type": "stream",
     "text": [
      "Opciones: \n",
      "1) De acuerdo\n",
      "2) En desacuerdo\n",
      "3) No me interesa\n",
      "Opciones: \n",
      "1) De acuerdo\n",
      "2) En desacuerdo\n",
      "3) No me interesa\n",
      "Opciones: \n",
      "1) De acuerdo\n",
      "2) En desacuerdo\n",
      "3) No me interesa\n"
     ]
    }
   ],
   "source": [
    "# Se importan muchas Librerías\n",
    "################################################\n",
    "###########################################\n",
    "# Código que hace muchas cosas interesantes\n",
    "###########################################\n",
    "# Menú\n",
    "print('Opciones: ')\n",
    "print('1) De acuerdo')\n",
    "print('2) En desacuerdo')\n",
    "print('3) No me interesa')\n",
    "###############################################\n",
    "# Más código que hace muchas cosas interesantes\n",
    "###############################################\n",
    "# Nuevamente el Menú\n",
    "print('Opciones: ')\n",
    "print('1) De acuerdo')\n",
    "print('2) En desacuerdo')\n",
    "print('3) No me interesa')\n",
    "###############################################\n",
    "# Otro código que hace muchas cosas interesantes\n",
    "###############################################\n",
    "# Menú por última vez\n",
    "print('Opciones: ')\n",
    "print('1) De acuerdo')\n",
    "print('2) En desacuerdo')\n",
    "print('3) No me interesa')\n",
    "###############################################\n",
    "# Código final y fin del Programa\n",
    "###############################################\n"
   ]
  },
  {
   "cell_type": "markdown",
   "metadata": {},
   "source": [
    "> Desde el punto de vista funcional, este código no tiene nada incorrecto, ya que cada una de\n",
    "sus partes funcionan de manera correcta y podríamos dejarlo tal cual está, pero desde el\n",
    "punto de vista práctico ya empezamos a notar algunas cosas.\n",
    ">\n",
    ">El código es bastante largo aunque no hemos definido las partes del código interesante, de\n",
    "hacerlo, probablemente el código sería aún más largo.\n",
    ">\n",
    ">Luego de escribir el código notamos que el formato de las opciones debía ser:\n",
    ">\n",
    ">>print('Opciones: ')\n",
    ">\n",
    ">>print('1). De acuerdo')\n",
    ">\n",
    ">>print('2). En desacuerdo')\n",
    ">\n",
    ">>print('3). No me interesa')\n",
    ">\n",
    ">Para corregir el error debemos cambiar 12 líneas de código, lo cual es una tarea\n",
    "extremadamente tediosa y propensa a error.\n",
    ">\n",
    ">Una manera más efectiva de poder escribir este código es definiendo una función. En este\n",
    "caso, nuestra función se llamará imprimir_menu()\n",
    ">\n",
    ">imprimir_menu() es una función que condensará todo el código relacionado al menú. Al\n",
    "hacer esto nuestro programa que era extremadamente largo se reduce a lo siguiente:\n",
    "\n",
    "\n"
   ]
  },
  {
   "cell_type": "code",
   "execution_count": 3,
   "metadata": {},
   "outputs": [
    {
     "name": "stdout",
     "output_type": "stream",
     "text": [
      "Opciones: \n",
      "1) De acuerdo\n",
      "2) En desacuerdo\n",
      "3) No me interesa\n",
      "Opciones: \n",
      "1) De acuerdo\n",
      "2) En desacuerdo\n",
      "3) No me interesa\n",
      "Opciones: \n",
      "1) De acuerdo\n",
      "2) En desacuerdo\n",
      "3) No me interesa\n"
     ]
    }
   ],
   "source": [
    "# Se importan muchas Librerías\n",
    "################################################\n",
    "# definición de funciones\n",
    "def imprimir_menu():\n",
    "    print('Opciones: ')\n",
    "    print('1) De acuerdo')\n",
    "    print('2) En desacuerdo')\n",
    "    print('3) No me interesa')\n",
    "###########################################\n",
    "# Código que hace muchas cosas interesantes\n",
    "###########################################\n",
    "imprimir_menu()\n",
    "###############################################\n",
    "# Más código que hace muchas cosas interesantes\n",
    "###############################################\n",
    "imprimir_menu()\n",
    "###############################################\n",
    "# Otro código que hace muchas cosas interesantes\n",
    "###############################################\n",
    "imprimir_menu()\n",
    "###############################################\n",
    "# Código final y fin del Programa\n",
    "##############################################\n"
   ]
  },
  {
   "cell_type": "markdown",
   "metadata": {},
   "source": [
    "> **NOTA:** Cada vez que utilizamos imprimir_menu() sin la palabra def estamos\n",
    "invocando la función, lo que quiere decir que estamos ejecutando el código al\n",
    "interior de la función. Por su parte, la invocación de una función se puede realizar\n",
    "solo después de haberla definido, por eso se hace buena práctica definir todas las funciones\n",
    "del usuario al inicio del código. Si una función no se invoca, el código en su interior nunca\n",
    "será ejecutado.\n",
    ">\n",
    "> **NOTA 2:** Es muy importante recalcar que para invocar una función es imperativo\n",
    "utilizar paréntesis de la siguiente forma: imprimir_menu(). En el caso de no\n",
    "hacerlo se obtendrá algo así:"
   ]
  },
  {
   "cell_type": "code",
   "execution_count": 4,
   "metadata": {},
   "outputs": [
    {
     "data": {
      "text/plain": [
       "<function __main__.imprimir_menu()>"
      ]
     },
     "execution_count": 4,
     "metadata": {},
     "output_type": "execute_result"
    }
   ],
   "source": [
    "imprimir_menu"
   ]
  },
  {
   "cell_type": "markdown",
   "metadata": {},
   "source": [
    "> Ahora el código de programa.py no solo es más corto, sino que el uso de funciones entrega\n",
    "otras ventajas, por ejemplo, en el caso de querer cambiar el formato del menú, solo tenemos\n",
    "que modificar la función imprimir_menu().\n",
    ">\n",
    ">Si queremos modificar el menú solo agregamos el punto a 4 líneas y no a todas las veces\n",
    "que aparece el menú:"
   ]
  },
  {
   "cell_type": "code",
   "execution_count": 5,
   "metadata": {},
   "outputs": [
    {
     "name": "stdout",
     "output_type": "stream",
     "text": [
      "Opciones: \n",
      "1). De acuerdo\n",
      "2). En desacuerdo\n",
      "3). No me interesa\n",
      "Opciones: \n",
      "1). De acuerdo\n",
      "2). En desacuerdo\n",
      "3). No me interesa\n",
      "Opciones: \n",
      "1). De acuerdo\n",
      "2). En desacuerdo\n",
      "3). No me interesa\n"
     ]
    }
   ],
   "source": [
    "# Se importan muchas Librerías\n",
    "################################################\n",
    "# definición de funciones\n",
    "def imprimir_menu():\n",
    "    print('Opciones: ')\n",
    "    print('1). De acuerdo')\n",
    "    print('2). En desacuerdo')\n",
    "    print('3). No me interesa')\n",
    "###########################################\n",
    "# Código que hace muchas cosas interesantes\n",
    "###########################################\n",
    "imprimir_menu()\n",
    "###############################################\n",
    "# Más código que hace muchas cosas interesantes\n",
    "###############################################\n",
    "imprimir_menu()\n",
    "###############################################\n",
    "# Otro código que hace muchas cosas interesantes\n",
    "###############################################\n",
    "imprimir_menu()\n",
    "###############################################\n",
    "# Código final y fin del Programa\n",
    "##############################################"
   ]
  },
  {
   "cell_type": "markdown",
   "metadata": {},
   "source": [
    "#### Parámetros y Argumentos\n",
    ">\n",
    ">Un parámetro es un elemento que podrá ser utilizado dentro de la función para realizar sus\n",
    "cálculos. El uso de un parámetro, como dijimos anteriormente, permite crear funciones que\n",
    "son reutilizables en muchos casos.\n",
    ">\n",
    ">Veamos el siguiente ejemplo:\n"
   ]
  },
  {
   "cell_type": "code",
   "execution_count": 7,
   "metadata": {},
   "outputs": [
    {
     "name": "stdout",
     "output_type": "stream",
     "text": [
      "4\n",
      "9\n",
      "16\n"
     ]
    }
   ],
   "source": [
    "def dos_elevado_2():\n",
    "    print(2**2)\n",
    "def tres_elevado_2():\n",
    "    print(3**2)\n",
    "def cuatro_elevado_2():\n",
    "    print(4**2)\n",
    "\n",
    "dos_elevado_2()\n",
    "tres_elevado_2()\n",
    "cuatro_elevado_2()"
   ]
  },
  {
   "cell_type": "markdown",
   "metadata": {},
   "source": [
    "> Acabamos de definir 3 funciones que, si bien son muy similares, hacen dos operaciones\n",
    "distintas, donde todas toman un número y lo elevan al cuadrado, pero el problema es que\n",
    "son números distintos.\n",
    ">\n",
    ">El uso de parámetros, nos permite entonces utilizar una sola función, pero con la\n",
    "funcionalidad de las 3 funciones mostradas anteriormente y muchas otras más:"
   ]
  },
  {
   "cell_type": "code",
   "execution_count": 8,
   "metadata": {},
   "outputs": [
    {
     "name": "stdout",
     "output_type": "stream",
     "text": [
      "4\n",
      "9\n",
      "16\n"
     ]
    }
   ],
   "source": [
    "def elevado_2(x):\n",
    "    print(x**2)\n",
    "elevado_2(2)\n",
    "elevado_2(3)\n",
    "elevado_2(4)\n"
   ]
  },
  {
   "cell_type": "markdown",
   "metadata": {},
   "source": [
    "> En este caso la función está elevando al cuadrado los números 2, 3 y 4, donde estos valores\n",
    "se denominan argumentos. Un argumento corresponde a los valores que tomará el\n",
    "parámetro para ser utilizado dentro de la función.\n",
    ">\n",
    ">Cabe recalcar que no estamos restringidos a la utilización de un solo parámetro al momento\n",
    "de definir nuestra función, ya que es posible utilizar todos los que sean necesarios. Para\n",
    "entregar más flexibilidad, podríamos incluso dar un parámetro como exponente.\n"
   ]
  },
  {
   "cell_type": "code",
   "execution_count": 9,
   "metadata": {},
   "outputs": [
    {
     "name": "stdout",
     "output_type": "stream",
     "text": [
      "4\n",
      "27\n",
      "16\n"
     ]
    }
   ],
   "source": [
    "def elevar(x,y):\n",
    "    print(x**y)\n",
    "elevar(2,2)\n",
    "elevar(3,3)\n",
    "elevar(4,2)\n"
   ]
  },
  {
   "cell_type": "markdown",
   "metadata": {},
   "source": [
    "> Otro alcance importante de hacer es que, al igual que las funciones, las buenas prácticas\n",
    "indican que los parámetros también siguen una convención snake_case y el nombre debe\n",
    "ser representativo de su funcionalidad. Por lo tanto, una mejor representación de la función\n",
    "sería:"
   ]
  },
  {
   "cell_type": "code",
   "execution_count": 10,
   "metadata": {},
   "outputs": [
    {
     "name": "stdout",
     "output_type": "stream",
     "text": [
      "4\n",
      "27\n",
      "16\n"
     ]
    }
   ],
   "source": [
    "def elevar(base, exponente):\n",
    "    print(base**exponente)\n",
    "elevar(2,2)\n",
    "elevar(3,3)\n",
    "elevar(4,2)"
   ]
  },
  {
   "cell_type": "markdown",
   "metadata": {},
   "source": [
    "> De esta manera, se tiene mayor claridad acerca de qué hace cada parámetro de la función.\n",
    ">\n",
    "> **NOTA:** Los parámetros pueden ser cualquiera de los tipos de datos vistos\n",
    "anteriormente. Incluso estos podrían ser estructuras de datos."
   ]
  }
 ],
 "metadata": {
  "kernelspec": {
   "display_name": "Python 3.10.5 64-bit",
   "language": "python",
   "name": "python3"
  },
  "language_info": {
   "codemirror_mode": {
    "name": "ipython",
    "version": 3
   },
   "file_extension": ".py",
   "mimetype": "text/x-python",
   "name": "python",
   "nbconvert_exporter": "python",
   "pygments_lexer": "ipython3",
   "version": "3.10.5"
  },
  "orig_nbformat": 4,
  "vscode": {
   "interpreter": {
    "hash": "5fe23d4cdea1a1fdeea398f38169f58ea6e36b10f84ee4017a8f0fee693ee786"
   }
  }
 },
 "nbformat": 4,
 "nbformat_minor": 2
}
