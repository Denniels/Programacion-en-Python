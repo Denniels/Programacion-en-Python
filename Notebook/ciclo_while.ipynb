{
 "cells": [
  {
   "cell_type": "markdown",
   "metadata": {},
   "source": [
    "### Introducción a Ciclos\n",
    ">\n",
    ">Los ciclos son sentencias que nos permiten repetir la ejecución de una o más instrucciones.\n",
    ">\n",
    ">Mientras se cumple una condición:\n",
    ">\n",
    "* Instrucción 1\n",
    "* Instrucción 2\n",
    "* Instrucción 3\n",
    ">Repetir instrucciones es la clave para crear programas avanzados, ya que, como\n",
    "programadores, nos interesa poder tener la mayor cantidad de funcionalidades sin tener que\n",
    "tener un código extremadamente largo.\n",
    ">\n",
    ">La diferencia principal entre programadores principiantes y los más experimentados es que\n",
    "estos últimos, están constantemente buscando cómo optimizar su código. Optimizar no\n",
    "solo significa que utilice funciones más avanzadas, sino que también hacerlo más\n",
    "compacto, lo que ayudará a entenderlo de mejor manera.\n"
   ]
  },
  {
   "cell_type": "markdown",
   "metadata": {},
   "source": [
    "### Ciclo While\n",
    "> La instrucción while nos permite ejecutar una o más operaciones mientras se cumpla una\n",
    "condición, la cual es idéntica a las utilizadas en nuestras sentencias if y la sintaxis es la\n",
    "siguiente:\n",
    ">\n",
    ">while condición:\n",
    ">> código a implementar\n",
    ">\n",
    "> Una manera más gráfica de poder entender esto, puede ser utilizando los diagramas de flujo que vimos anteriormente:\n",
    ">\n",
    "![](fotos/flujo_while.jpg)\n",
    ">\n",
    "\n",
    "1. Se evalúa la condición; si es True, ingresa al ciclo.\n",
    "2. Se ejecutan secuencialmente las instrucciones definidas dentro del ciclo.\n",
    "3. Una vez ejecutadas todas las instrucciones, se vuelve a evaluar la condición:\n",
    ">\n",
    "* Si se evalúa como True: vuelve a repetir.\n",
    "* Si se evalúa como False: sale del ciclo.\n",
    ">\n",
    "#### Salida del ciclo\n",
    "> Como vimos al inicio de la unidad, un algoritmo es una secuencia de pasos FINITA para\n",
    "resolver un problema. En algún momento, algunas de las instrucciones dentro del bloque\n",
    "deben lograr que la condición no se cumpla, es decir, debe existir una condición de salida o\n",
    "término del ciclo.\n",
    "\n"
   ]
  },
  {
   "cell_type": "markdown",
   "metadata": {},
   "source": [
    "#### Ejercicio Guiado 1: Password\n",
    ">\n",
    ">Todo buen programador sabe que existen algunos elementos que son sensibles, ya que no\n",
    "todo puede ser público, por lo que algunas veces va a ser necesario la inclusión de\n",
    "contraseñas o passwords para proteger la información. Entonces ¿Cómo podemos utilizar\n",
    "while para implementar un password?\n",
    ">\n",
    "1. Creemos el archivo password.py\n",
    "2. Solicitamos la clave. Para ello, utilizaremos la librería getpass.\n",
    ">\n",
    ">import getpass\n",
    ">\n",
    ">password = getpass.getpass(\"Ingrese la clave secreta: \")\n",
    ">\n",
    "3. Ahora viene la parte interesante, ya que debemos identificar cómo queremos que\n",
    "nuestro programa funcione. En este caso, si la clave es correcta queremos que\n",
    "nuestro programa inicie, de lo contrario, queremos que vuelva a solicitar la clave.\n",
    "Dado que queremos que vuelva a realizar una acción de solicitar la clave hasta que\n",
    "se ingrese la clave correcta, es necesario utilizar el ciclo while:\n",
    "\n"
   ]
  },
  {
   "cell_type": "code",
   "execution_count": 2,
   "metadata": {},
   "outputs": [
    {
     "name": "stdout",
     "output_type": "stream",
     "text": [
      "Clave Correcta. Puedes utilizar tu programa\n"
     ]
    }
   ],
   "source": [
    "import getpass\n",
    "password = getpass.getpass(\"Ingrese la clave secreta: \")\n",
    "\n",
    "# En este caso definimos nuestro password como \"hola mundo\"\n",
    "# En este caso, mientras la contraseña no sea hola mundo,\n",
    "# seguirá solicitando la contraseña, pero esta vez con otro mensaje.\n",
    "\n",
    "while password != \"hola mundo\":\n",
    "    password = getpass.getpass(\"La clave secreta no es correcta. Intenta otra vez.\")\n",
    "\n",
    "print(\"Clave Correcta. Puedes utilizar tu programa\")\n",
    "# Posterior a esto podríamos agregar el código de nuestro programa."
   ]
  },
  {
   "cell_type": "markdown",
   "metadata": {},
   "source": [
    "4. Finalmente, podemos incluir el código final de nuestro programa. En este caso, solo\n",
    "agregaremos un código genérico que da inicio a nuestro programa.\n"
   ]
  },
  {
   "cell_type": "markdown",
   "metadata": {},
   "source": [
    "### Iterar\n",
    ">\n",
    ">Iterar es dar una vuelta al ciclo, y por diseño, el ciclo while es un ciclo infinito, donde la\n",
    "mayoría de las veces no se sabe cuántas iteraciones tendrá. Por ejemplo, en el ejercicio de\n",
    "la contraseña, va a depender de cuantas veces el usuario ingrese el password de manera\n",
    "incorrecta; aún así, existen otros problemas en el que a priori sí se conoce cuántas veces es\n",
    "necesario iterar.\n",
    ">\n",
    ">Por ejemplo el siguiente:\n",
    ">\n",
    "![](fotos/iterar.jpg)\n",
    ">\n",
    ">\n",
    "### Contando con while\n",
    ">En el diagrama anterior, donde se buscaba imprimir un texto en pantalla 10 veces, la\n",
    "implementación del código se realiza de la siguiente forma:\n"
   ]
  },
  {
   "cell_type": "code",
   "execution_count": 3,
   "metadata": {},
   "outputs": [
    {
     "name": "stdout",
     "output_type": "stream",
     "text": [
      "Esto se mostrará 10 veces\n",
      "Esto se mostrará 10 veces\n",
      "Esto se mostrará 10 veces\n",
      "Esto se mostrará 10 veces\n",
      "Esto se mostrará 10 veces\n",
      "Esto se mostrará 10 veces\n",
      "Esto se mostrará 10 veces\n",
      "Esto se mostrará 10 veces\n",
      "Esto se mostrará 10 veces\n",
      "Esto se mostrará 10 veces\n"
     ]
    }
   ],
   "source": [
    "i = 0\n",
    "while i < 10:\n",
    "    print(\"Esto se mostrará 10 veces\") # está es la expresión a repetir\n",
    "    i = i + 1 # IMPORTANTE"
   ]
  },
  {
   "cell_type": "markdown",
   "metadata": {},
   "source": [
    ">La instrucción print(\"Esto se mostrará 10 veces\") se repetirá hasta que la variable i\n",
    "alcance el valor 10. Una vez esto ocurra, la condición asociada al while se evaluará como\n",
    "False y terminará el ciclo.\n",
    ">\n",
    ">Considera que en programación, es una convención utilizar una variable llamada i como\n",
    "variable de iteración para operar en un ciclo.\n",
    ">\n",
    ">En este ciclo el iterador (i) en la primera vuelta valdrá 1, en la segunda iteración valdrá 2, en\n",
    "la tercera valdrá 3 y así sucesivamente hasta llegar a la condición declarada que sea menor\n",
    "que 10.\n",
    ">\n",
    "> **NOTA:** Si no se aumenta el valor de la variable i, entonces el ciclo nunca alcanzará\n",
    "su condición de salida, por ende, el loop será infinito.\n",
    ">\n",
    "### Operadores de asignación\n",
    ">\n",
    ">Una de las ventajas que ofrece Python es su sintaxis, la cual es concisa y fácil de leer. Esto,\n",
    "porque nos permite reescribir algunos elementos que pueden ser difíciles de entender a\n",
    "primera vista, como por ejemplo:\n",
    "\n",
    "\n"
   ]
  },
  {
   "cell_type": "code",
   "execution_count": 4,
   "metadata": {},
   "outputs": [],
   "source": [
    "# Este trozo de código incrementa el valor de i en 1.\n",
    "# Al valor actual de i le suma 1 y lo vuelve a asignar a i.\n",
    "i = i + 1\n",
    "# Mismo resultado, pero más compacto\n",
    "i += 1 # Esto es un operador de asignación"
   ]
  },
  {
   "cell_type": "markdown",
   "metadata": {},
   "source": [
    ">Los operadores de asignación permiten realizar una operación sobre una variable, pero a la\n",
    "vez sobreescribir esa misma variable, básicamente, son modificadores de esa variable.\n",
    ">\n",
    ">En la siguiente tabla se muestra el comportamiento de algunos de los operadores de\n",
    "asignación:\n",
    ">\n",
    "![](fotos/tabla_000.jpg)\n",
    ">\n",
    "### Contadores y Acumuladores\n",
    "> Cuando se trabaja con ciclos, existen algunos elementos que nos permiten hacer cálculos\n",
    "para llevar a cabo una tarea. Estos son los contadores y acumuladores:\n",
    ">\n",
    "* Contador: Aumenta de 1 en 1.\n",
    ">>* cont = cont + 1.\n",
    ">>* cont += 1.\n",
    "* Acumulador: Acumula, el valor anterior más un valor adicional.\n",
    ">>* acu = acu + valor.\n",
    ">>* acu += valor.\n",
    ">\n",
    ">Es bueno aclarar que también es posible utilizar el operador de asignación += para ir\n",
    "acumulando strings. Esto porque, como ya hemos visto, el operador + funciona como un\n",
    "concatenador al ser aplicado este tipo de datos.\n"
   ]
  },
  {
   "cell_type": "code",
   "execution_count": 6,
   "metadata": {},
   "outputs": [
    {
     "name": "stdout",
     "output_type": "stream",
     "text": [
      "hola mundo\n",
      "hola mundo chao\n"
     ]
    }
   ],
   "source": [
    "saludo = \"hola\"\n",
    "saludo += \" mundo\"\n",
    "print(saludo) # hola mundo\n",
    "saludo += \" chao\"\n",
    "print(saludo) # hola mundo chao\n"
   ]
  },
  {
   "cell_type": "markdown",
   "metadata": {},
   "source": [
    ">Debido a que el término de un ciclo while depende de una condición, es necesario tener\n",
    "especial cuidado ya que se podría caer en ciclos infinitos. Un ciclo infinito, es aquel que no\n",
    "termina nunca, ya que no se puede alcanzar la condición de salida.\n",
    ">\n",
    ">Para comprenderlo mejor, presta atención al siguiente ejemplo:\n"
   ]
  },
  {
   "cell_type": "code",
   "execution_count": null,
   "metadata": {},
   "outputs": [],
   "source": [
    "i = 1\n",
    "while i < 10:\n",
    "    print(i)"
   ]
  }
 ],
 "metadata": {
  "kernelspec": {
   "display_name": "Python 3.10.5 64-bit",
   "language": "python",
   "name": "python3"
  },
  "language_info": {
   "codemirror_mode": {
    "name": "ipython",
    "version": 3
   },
   "file_extension": ".py",
   "mimetype": "text/x-python",
   "name": "python",
   "nbconvert_exporter": "python",
   "pygments_lexer": "ipython3",
   "version": "3.10.5"
  },
  "orig_nbformat": 4,
  "vscode": {
   "interpreter": {
    "hash": "5fe23d4cdea1a1fdeea398f38169f58ea6e36b10f84ee4017a8f0fee693ee786"
   }
  }
 },
 "nbformat": 4,
 "nbformat_minor": 2
}
