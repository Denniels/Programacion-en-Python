{
 "cells": [
  {
   "cell_type": "markdown",
   "metadata": {},
   "source": [
    "> En este capítulo se introducirán las instrucciones If/elif/else en Python los cuales\n",
    "permitirán generar estructuras condicionales para la implementación de programas de\n",
    "mayor complejidad. Las estructuras condicionales añaden flexibilidad a nuestro código\n",
    "permitiendo que algunas partes se ejecuten dependiendo de si ocurre o no ocurre una\n",
    "condición; y estas condiciones pueden depender de algún resultado, del ingreso de una\n",
    "variable o de la interacción del usuario.\n"
   ]
  },
  {
   "cell_type": "markdown",
   "metadata": {},
   "source": [
    "### La instrucción IF\n",
    "> La instrucción if será la encargada de tomar una decisión en Python mediante una prueba\n",
    "lógica; normalmente en términos de control de flujo a estas pruebas lógicas se les\n",
    "denomina condiciones.\n",
    ">\n",
    "> if condición:\n",
    ">> código que se ejecutará SÓLO si se cumple la condición.\n",
    ">\n",
    ">Lo anterior se lee de la siguiente manera: \"Si se cumple la condición, entonces ejecuta el\n",
    "código\". Python permite condiciones simples o condiciones compuestas tal cómo\n",
    "revisamos en el capítulo anterior.\n",
    ">\n",
    ">Ejemplo:\n"
   ]
  },
  {
   "cell_type": "code",
   "execution_count": 28,
   "metadata": {},
   "outputs": [],
   "source": [
    "edad = int(input(\"¿Qué edad tienes?\"))\n",
    "if edad >= 18:\n",
    "    print(\"Eres mayor de edad\")"
   ]
  },
  {
   "cell_type": "markdown",
   "metadata": {},
   "source": [
    "> **NOTA**: Fíjate que el código que se ejecuta al cumplirse la condición se encuentra\n",
    "desplazado con respecto a la instrucción if. Esto se conoce como indentación y en\n",
    "Python está definida por convención en 4 espacios, aunque hoy en día\n",
    "prácticamente todo editor de texto permite usar un Tab, el cual automáticamente se\n",
    "transformará en 4 espacios.\n",
    ">\n",
    "> La indentación es fundamental en Python para determinar subcódigos que son parte de una\n",
    "Instrucción, por ejemplo:"
   ]
  },
  {
   "cell_type": "code",
   "execution_count": 29,
   "metadata": {},
   "outputs": [],
   "source": [
    "edad = int(input(\"¿Qué edad tienes?\"))\n",
    "if edad >= 18:\n",
    "    print(\"Eres mayor de edad\")\n",
    "    print(\"El programa ha finalizado\")\n"
   ]
  },
  {
   "cell_type": "markdown",
   "metadata": {},
   "source": [
    "> Si ejecutamos el programa, notaremos que en este caso se indica que se es mayor de edad\n",
    "y, además, se muestra que el programa finalizó:\n",
    ">\n",
    ">¿Qué edad tienes? 33\n",
    ">\n",
    ">Eres mayor de edad\n",
    ">\n",
    ">El programa ha finalizado\n",
    ">\n",
    ">Pero, si ejecutamos este programa no ocurre nada:\n",
    ">¿Qué edad tienes? 17\n",
    ">\n",
    ">Esto sucede porque ambos print() son parte de la condición if, y solo se ejecutará si es\n",
    "que se cumple la condición estipulada.\n",
    ">\n",
    ">Una propuesta más adecuada podría ser esta:\n",
    "\n"
   ]
  },
  {
   "cell_type": "code",
   "execution_count": 30,
   "metadata": {},
   "outputs": [
    {
     "name": "stdout",
     "output_type": "stream",
     "text": [
      "El programa ha finalizado\n"
     ]
    }
   ],
   "source": [
    "edad = int(input(\"¿Qué edad tienes?\"))\n",
    "if edad >= 18:\n",
    "    print(\"Eres mayor de edad\")\n",
    "print(\"El programa ha finalizado\")\n"
   ]
  },
  {
   "cell_type": "markdown",
   "metadata": {},
   "source": [
    "#### ¿Qué hacer si una condición no se cumple?\n",
    "> Quizás te preguntarás: ¿cómo podemos modificar nuestro programa para que muestre un\n",
    "mensaje cuando el usuario sea menor edad y otro mensaje cuando el usuario sea mayor de\n",
    "edad?\n",
    ">\n",
    "> Una buena práctica es realizar un diagrama de flujo antes de comenzar a programar:\n",
    ">\n",
    "![Diagrama de flujo](fotos/flujo.jpg \"Diagrama de flujo\")\n",
    ">\n",
    ">Para implementarlo se introduce la instrucción else:\n",
    ">\n",
    ">if condición:\n",
    ">\n",
    ">> código que se ejecutará SÓLO SI se cumple la condición\n",
    ">\n",
    ">else:\n",
    ">> código que se ejecutará si NO se cumple la condición\n",
    ">\n",
    ">Lo anterior se lee de la siguiente manera: \"Si se cumple la condición, entonces ejecuta el\n",
    "bloque de código, sino ejecuta el siguiente bloque de código\".\n"
   ]
  },
  {
   "cell_type": "code",
   "execution_count": 31,
   "metadata": {},
   "outputs": [
    {
     "name": "stdout",
     "output_type": "stream",
     "text": [
      "Eres menor de edad\n"
     ]
    }
   ],
   "source": [
    "edad = int(input(\"¿Qué edad tienes?\"))\n",
    "if edad >= 18:\n",
    "    print(\"Eres mayor de edad\")\n",
    "else:\n",
    "    print(\"Eres menor de edad\")"
   ]
  },
  {
   "cell_type": "markdown",
   "metadata": {},
   "source": [
    "#### ¿Qué hacer si se quiere analizar más de 2 casos?\n",
    ">Tomando el caso anterior, es posible enfocarlo de la siguiente manera: “una persona puede\n",
    "ser mayor de 18 años, menor de 18 años o puede tener exactamente 18 años”.\n",
    ">\n",
    ">Para eso, Python nos provee de una instrucción híbrida adicional llamada elif, la que nos\n",
    "permite realizar una evaluación condicional cuando no se cumplió una evaluación previa.\n",
    ">\n",
    ">Además, es posible combinar if con uno o varios elif, además de un else.\n"
   ]
  },
  {
   "cell_type": "code",
   "execution_count": 32,
   "metadata": {},
   "outputs": [
    {
     "name": "stdout",
     "output_type": "stream",
     "text": [
      "Tienes menos de 18 años\n"
     ]
    }
   ],
   "source": [
    "edad = int(input(\"¿Qué edad tienes?\"))\n",
    "if edad > 18:\n",
    "    print(\"Tienes más de 18 años\")\n",
    "elif edad == 18:\n",
    "    print(\"Tienes 18 años\")\n",
    "else:\n",
    "    print(\"Tienes menos de 18 años\")"
   ]
  },
  {
   "cell_type": "markdown",
   "metadata": {},
   "source": [
    "> Un aspecto que hay que tener presente, es que las distintas condiciones se irán evaluando\n",
    "en orden secuencial, y el bloque terminará ejecutando el código asociado a la primera\n",
    "condición que se cumpla."
   ]
  },
  {
   "cell_type": "markdown",
   "metadata": {},
   "source": [
    "#### Ejercicio guiado 1: Números pares e impares\n",
    "> Supongamos que queremos determinar si el número que nuestro usuario ingresa es par o\n",
    "impar:\n",
    "1. Abre tu editor de texto:\n",
    "2. Solicitamos un valor al usuario de manera interactiva:\n"
   ]
  },
  {
   "cell_type": "code",
   "execution_count": 33,
   "metadata": {},
   "outputs": [],
   "source": [
    "valor = int(input(\"Ingresa el valor a probar: \"))"
   ]
  },
  {
   "cell_type": "markdown",
   "metadata": {},
   "source": [
    ">Nótese que estamos envolviendo en la función int() nuestro input para que al ingresar los\n",
    "datos desde la consola o terminal, estos sean convertidos a un entero dado que la función\n",
    "input por defecto retorna un string o cadena de texto.\n",
    ">\n",
    "3. Determinemos cual es la lógica para encontrar los pares:\n",
    ">Sabemos que un número par se caracteriza por ser divisible por 2, por ello, si lo traducimos\n",
    "en una prueba lógica quedaría como:\n"
   ]
  },
  {
   "cell_type": "code",
   "execution_count": 34,
   "metadata": {},
   "outputs": [
    {
     "data": {
      "text/plain": [
       "True"
      ]
     },
     "execution_count": 34,
     "metadata": {},
     "output_type": "execute_result"
    }
   ],
   "source": [
    "valor % 2 == 0"
   ]
  },
  {
   "cell_type": "markdown",
   "metadata": {},
   "source": [
    "4. Ahora armemos las decisiones:"
   ]
  },
  {
   "cell_type": "code",
   "execution_count": 35,
   "metadata": {},
   "outputs": [
    {
     "name": "stdout",
     "output_type": "stream",
     "text": [
      "Este es un número par\n"
     ]
    }
   ],
   "source": [
    "if valor % 2 == 0:\n",
    "    print(\"Este es un número par\")\n",
    "else:\n",
    "    print(\"Este es un número impar\")"
   ]
  },
  {
   "cell_type": "markdown",
   "metadata": {},
   "source": [
    "> Vamos más allá, ¿qué pasa entonces si nuestro programa lo probamos con el valor 0? Esto\n",
    "siempre es un problema porque para algunos el 0 no es par ni tampoco es impar, ¡es un\n",
    "cero! Ahora bien, ¿qué es lo que dice nuestro programa al respecto?\n",
    ">\n",
    "![Code](fotos/code_000.jpg \"code\")\n",
    ">\n",
    "> Si probamos con el cero, nuestro programa dice que es un número par, lo cual no está\n",
    "completamente correcto. La razón de este error, es porque la manera de encontrar nuestros\n",
    "pares es de manera indirecta, y para el caso particular 0 % 2 es cero, por lo tanto, nuestro\n",
    "programa está ejecutando de manera correcta lo que le pedimos, pero no está entregando el\n",
    "resultado que esperamos.\n",
    ">\n",
    ">Para solucionar esto, nos basta con agregar dicha condición, naturalmente, podemos pensar\n",
    "en agregarla como un elif, previo al else.\n"
   ]
  },
  {
   "cell_type": "code",
   "execution_count": 36,
   "metadata": {},
   "outputs": [
    {
     "name": "stdout",
     "output_type": "stream",
     "text": [
      "Este es un número par\n"
     ]
    }
   ],
   "source": [
    "valor = int(input('Ingrese el valor a probar: '))\n",
    "if valor % 2 ==0:\n",
    "    print('Este es un número par')\n",
    "elif valor == 0:\n",
    "    print('Este número es cero')\n",
    "else:\n",
    "    print('Este es un número impar')"
   ]
  },
  {
   "cell_type": "markdown",
   "metadata": {},
   "source": [
    "> Como se puede observar, se obtiene el mismo resultado, que el 0 es considerado par, a\n",
    "pesar de que se agregó una condición extra.\n",
    ">\n",
    "> La razón por la que esto ocurre es que en caso de tener múltiples condiciones, estas se van\n",
    "a ir evaluando de manera secuencial, y ya sabemos que para un valor igual a cero valor %\n",
    "2 es igual a cero, por lo tanto, nunca llegará a cumplirse la segunda condición agregada.\n",
    ">\n",
    ">Para solucionar este problema es necesario entonces intercambiar el orden de las\n",
    "condiciones de la siguiente manera:\n"
   ]
  },
  {
   "cell_type": "code",
   "execution_count": 37,
   "metadata": {},
   "outputs": [
    {
     "name": "stdout",
     "output_type": "stream",
     "text": [
      "Este es un número par\n"
     ]
    }
   ],
   "source": [
    "valor = int(input('Ingrese el valor a probar: '))\n",
    "if valor ==0:\n",
    "    print('Este número es cero')\n",
    "elif valor % 2 == 0:\n",
    "    print('Este es un número par')\n",
    "else:\n",
    "    print('Este es un número impar')"
   ]
  },
  {
   "cell_type": "markdown",
   "metadata": {},
   "source": [
    "> Vamos aún más allá; si bien nuestro programa funciona como esperamos, aún existen\n",
    "oportunidades de mejora, y una de ellas es con respecto al uso de números negativos. \n",
    ">\n",
    "> Los números pares e impares normalmente son utilizados dentro del rango positivo.\n",
    ">\n",
    ">Podríamos, por ejemplo, hacer una advertencia, o decir que normalmente estos criterios se\n",
    "usan en números positivos.\n"
   ]
  },
  {
   "cell_type": "code",
   "execution_count": 38,
   "metadata": {},
   "outputs": [
    {
     "name": "stdout",
     "output_type": "stream",
     "text": [
      "Este es un número par\n"
     ]
    }
   ],
   "source": [
    "valor = int(input('Ingrese el valor a probar: '))\n",
    "if valor < 0:\n",
    "    print('Cuidado, los criterios de paridad normalmente se utilizan con números positivos.')\n",
    "    print('Usar el resultado con Precaución.\\n')\n",
    "if valor == 0:\n",
    "    print('Este número es cero')\n",
    "elif valor % 2 == 0:\n",
    "    print('Este es un número par')\n",
    "else:\n",
    "    print('Este es un número impar')"
   ]
  }
 ],
 "metadata": {
  "kernelspec": {
   "display_name": "Python 3.10.5 64-bit",
   "language": "python",
   "name": "python3"
  },
  "language_info": {
   "codemirror_mode": {
    "name": "ipython",
    "version": 3
   },
   "file_extension": ".py",
   "mimetype": "text/x-python",
   "name": "python",
   "nbconvert_exporter": "python",
   "pygments_lexer": "ipython3",
   "version": "3.10.5"
  },
  "orig_nbformat": 4,
  "vscode": {
   "interpreter": {
    "hash": "5fe23d4cdea1a1fdeea398f38169f58ea6e36b10f84ee4017a8f0fee693ee786"
   }
  }
 },
 "nbformat": 4,
 "nbformat_minor": 2
}
