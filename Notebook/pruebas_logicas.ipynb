{
 "cells": [
  {
   "cell_type": "markdown",
   "metadata": {},
   "source": [
    "# Pruebas logicas\n",
    "\n",
    "> Anteriormente definimos el tipo de dato booleano, los que pueden tomar solo dos valores:\n",
    "Verdadero o Falso.\n",
    "Pero, ¿por qué es necesario disponer de un tipo de dato que parece ser demasiado sencillo\n",
    "de entender? Luego de haber aprendido qué es un diagrama de flujo y qué es el\n",
    "pseudocódigo, la manera más sencilla de entender el funcionamiento de este tipo de dato\n",
    "es que será la respuesta a una pregunta (representadas con el rombo en los diagramas de\n",
    "flujo), técnicamente, una operación lógica.\n",
    ">\n",
    "> Toda pregunta lógica tiene dos posibles respuestas:\n",
    "True (cuando la respuesta es afirmativa) y;\n",
    "False (en caso de ser negativa).\n",
    "Las operaciones lógicas o también llamadas pruebas lógicas, serán la manera en la que\n",
    "podemos representar en forma de código una pregunta. En general, esta se presenta en\n",
    "forma de comparación entre 2 valores por medio de un operador matemático de\n",
    "comparación"
   ]
  },
  {
   "cell_type": "markdown",
   "metadata": {},
   "source": [
    "> Para analizar el funcionamiento de estos operadores utilizaremos el siguiente caso:\n",
    "* Juan tiene 27 años\n",
    "* No tiene Hijos\n",
    "* Salió al colegio a los 17 años\n",
    "* Estudio por 6 años en la Universidad\n",
    "* Lleva 3 años pololeando o de noviazgo\n",
    "* Tiene 4 años de Experiencia Laboral\n"
   ]
  },
  {
   "cell_type": "code",
   "execution_count": 10,
   "metadata": {},
   "outputs": [],
   "source": [
    "nombre = \"Juan\"\n",
    "edad = 27 # años\n",
    "n_hijos = 0\n",
    "graduacion_colegio = 17 # años duracion_uni = 6 # años\n",
    "duracion_pololeo = 3 # años\n",
    "exp_laboral = 4 # \n",
    "duracion_uni = 6\n"
   ]
  },
  {
   "cell_type": "markdown",
   "metadata": {},
   "source": [
    "* ¿Juan es mayor de edad?"
   ]
  },
  {
   "cell_type": "code",
   "execution_count": 2,
   "metadata": {},
   "outputs": [
    {
     "name": "stdout",
     "output_type": "stream",
     "text": [
      "True\n"
     ]
    }
   ],
   "source": [
    "print(edad >= 18)"
   ]
  },
  {
   "cell_type": "markdown",
   "metadata": {},
   "source": [
    "> Dado que Juan es mayor a 18, podemos deducir que es mayor de edad.\n",
    "* ¿Juan se graduó del colegio antes de los 18 años?\n"
   ]
  },
  {
   "cell_type": "code",
   "execution_count": 3,
   "metadata": {},
   "outputs": [
    {
     "name": "stdout",
     "output_type": "stream",
     "text": [
      "True\n"
     ]
    }
   ],
   "source": [
    "print(graduacion_colegio < 18)"
   ]
  },
  {
   "cell_type": "markdown",
   "metadata": {},
   "source": [
    " > Debido a que la edad de graduación es menor que 18, interpretamos que la graduación ocurrió antes de dicha edad.\n",
    "* ¿Juan no tiene 4 años de experiencia laboral?\n"
   ]
  },
  {
   "cell_type": "code",
   "execution_count": 4,
   "metadata": {},
   "outputs": [
    {
     "name": "stdout",
     "output_type": "stream",
     "text": [
      "False\n"
     ]
    }
   ],
   "source": [
    "print(exp_laboral != 4)"
   ]
  },
  {
   "cell_type": "markdown",
   "metadata": {},
   "source": [
    " > En este caso, sabemos que Juan tiene 4 años de experiencia laboral, por lo tanto, esto resultará en False.\n",
    "* ¿Juan tiene hijos?"
   ]
  },
  {
   "cell_type": "code",
   "execution_count": 5,
   "metadata": {},
   "outputs": [
    {
     "name": "stdout",
     "output_type": "stream",
     "text": [
      "False\n"
     ]
    }
   ],
   "source": [
    "print(n_hijos > 0)"
   ]
  },
  {
   "cell_type": "markdown",
   "metadata": {},
   "source": [
    "> Este corresponde a un caso un poco distinto, ya que la manera en la que se definió n_hijos\n",
    "es por la cantidad de hijos, por lo tanto, si tiene un número mayor a 0 quiere decir que\n",
    "efectivamente tiene hijos.\n",
    ">\n",
    "* ¿Juan no tiene hijos?\n"
   ]
  },
  {
   "cell_type": "code",
   "execution_count": 6,
   "metadata": {},
   "outputs": [
    {
     "name": "stdout",
     "output_type": "stream",
     "text": [
      "True\n"
     ]
    }
   ],
   "source": [
    "print(n_hijos == 0)"
   ]
  },
  {
   "cell_type": "markdown",
   "metadata": {},
   "source": [
    "> Al modificar levemente la pregunta, podemos utilizar un operador completamente distinto. Si\n",
    "es que el número de hijos es cero, entonces no tiene hijos.\n",
    ">\n",
    "> **NOTA**: Para preguntar si “algo es igual”, se utiliza doble signo igual (==). Ten en\n",
    "cuenta que utilizar sólo un signo igual implica una asignación, es decir, definir una\n",
    "variable, lo cual no devuelve un valor True o False.\n",
    ">\n",
    ">Existen otro tipo de preguntas que no se responden de manera tan directa y hay que recurrir\n",
    "al ingenio para hacerlas entender en nuestro código. A estas las llamaremos **Preguntas\n",
    "Indirectas:**\n",
    ">\n",
    "* ¿Al graduarse de la Universidad ya había cumplido 22?\n",
    "> No tenemos una variable directa que pueda responder esto, pero podemos armarla:"
   ]
  },
  {
   "cell_type": "code",
   "execution_count": 11,
   "metadata": {},
   "outputs": [
    {
     "name": "stdout",
     "output_type": "stream",
     "text": [
      "True\n"
     ]
    }
   ],
   "source": [
    "edad_grad_uni = graduacion_colegio + duracion_uni\n",
    "print(edad_grad_uni >= 22)"
   ]
  },
  {
   "cell_type": "markdown",
   "metadata": {},
   "source": [
    "> En este caso, la interpretación es: al sumar la edad de graduación más la duración de la\n",
    "universidad obtengo un estimado de mi edad de graduación. Si esta edad, es al menos 22,\n",
    "quiere decir que al graduarse ya tenía 22.\n",
    "* ¿Juan comenzó a pololear a los 25?\n",
    "> Acá podemos utilizar un procedimiento similar al anterior, ya que se define un estimado de\n",
    "la edad de inicio del pololeo:\n"
   ]
  },
  {
   "cell_type": "code",
   "execution_count": 12,
   "metadata": {},
   "outputs": [
    {
     "name": "stdout",
     "output_type": "stream",
     "text": [
      "False\n"
     ]
    }
   ],
   "source": [
    "edad_inicio_pololeo = edad - duracion_pololeo\n",
    "print(edad_inicio_pololeo == 25)"
   ]
  },
  {
   "cell_type": "markdown",
   "metadata": {},
   "source": [
    "> En este caso la respuesta es no, ya que comenzó a pololear a los 24.\n",
    ">\n",
    "* ¿Juan lleva más tiempo trabajando o estudiando?\n",
    ">\n",
    "> Si bien esta es una pregunta que no requiere la creación de variables extras, dependiendo\n",
    "del planteamiento es la interpretación. Básicamente estamos transformando la pregunta:\n",
    ">\n",
    "* ¿Juan tiene más tiempo trabajando?"
   ]
  },
  {
   "cell_type": "code",
   "execution_count": 13,
   "metadata": {},
   "outputs": [
    {
     "name": "stdout",
     "output_type": "stream",
     "text": [
      "True\n"
     ]
    }
   ],
   "source": [
    "print(exp_laboral > duracion_pololeo)"
   ]
  },
  {
   "cell_type": "markdown",
   "metadata": {},
   "source": [
    "> En este caso la respuesta es directa, sí, lleva más tiempo trabajando.\n",
    "* ¿Juan tiene más tiempo pololeando?"
   ]
  },
  {
   "cell_type": "code",
   "execution_count": 14,
   "metadata": {},
   "outputs": [
    {
     "name": "stdout",
     "output_type": "stream",
     "text": [
      "False\n"
     ]
    }
   ],
   "source": [
    "print(exp_laboral < duracion_pololeo)"
   ]
  },
  {
   "cell_type": "markdown",
   "metadata": {},
   "source": [
    "> En este caso la respuesta es no, por lo tanto, se deduce que lleva más tiempo trabajando.\n",
    "* ¿Juan ya estaba pololeando cuando comenzó a trabajar?\n",
    "> En este caso, podemos utilizar la variable edad_inicio_pololeo que ya habíamos creado\n",
    "y complementar con un inicio de trabajo:\n"
   ]
  },
  {
   "cell_type": "code",
   "execution_count": 15,
   "metadata": {},
   "outputs": [],
   "source": [
    "edad_inicio_trabajo = edad - exp_laboral"
   ]
  },
  {
   "cell_type": "markdown",
   "metadata": {},
   "source": [
    "> Luego, replantear la pregunta:\n",
    "* ¿Juan comenzó a pololear antes de trabajar?"
   ]
  },
  {
   "cell_type": "code",
   "execution_count": 16,
   "metadata": {},
   "outputs": [
    {
     "name": "stdout",
     "output_type": "stream",
     "text": [
      "False\n"
     ]
    }
   ],
   "source": [
    "print(edad_inicio_pololeo < edad_inicio_trabajo)"
   ]
  },
  {
   "cell_type": "markdown",
   "metadata": {},
   "source": [
    "> En este caso, la respuesta es directa. Debido a que NO comenzó a pololear antes de trabajar.\n",
    "* ¿Juan comenzó a trabajar antes de pololear?\n"
   ]
  },
  {
   "cell_type": "code",
   "execution_count": 17,
   "metadata": {},
   "outputs": [
    {
     "name": "stdout",
     "output_type": "stream",
     "text": [
      "True\n"
     ]
    }
   ],
   "source": [
    "print(edad_inicio_pololeo > edad_inicio_trabajo)"
   ]
  },
  {
   "cell_type": "markdown",
   "metadata": {},
   "source": [
    "> En este caso la respuesta es indirecta. Como comenzó a trabajar antes de pololear, quiere\n",
    "decir que no estaba pololeando antes.\n",
    ">\n",
    "> Algunas de estas pruebas también tienen sentido con Strings, por ejemplo:\n",
    "* ¿El sujeto se llama Juan?\n"
   ]
  },
  {
   "cell_type": "code",
   "execution_count": 18,
   "metadata": {},
   "outputs": [
    {
     "name": "stdout",
     "output_type": "stream",
     "text": [
      "True\n"
     ]
    }
   ],
   "source": [
    "print(nombre == \"Juan\")"
   ]
  },
  {
   "cell_type": "markdown",
   "metadata": {},
   "source": [
    "* ¿El sujeto no se llama José?"
   ]
  },
  {
   "cell_type": "code",
   "execution_count": 19,
   "metadata": {},
   "outputs": [
    {
     "name": "stdout",
     "output_type": "stream",
     "text": [
      "True\n"
     ]
    }
   ],
   "source": [
    "print(nombre != \"José\")"
   ]
  },
  {
   "cell_type": "markdown",
   "metadata": {},
   "source": [
    "#### Diferencia entre = y ==\n",
    "> Es importante diferenciar el operador asignación (=) del operador de igualdad (==). Ambos\n",
    "pueden combinarse dentro del código y se debe comprender la función de cada uno. Para\n",
    "esto, seguiremos trabajando con el caso de Juan."
   ]
  },
  {
   "cell_type": "code",
   "execution_count": 21,
   "metadata": {},
   "outputs": [
    {
     "name": "stdout",
     "output_type": "stream",
     "text": [
      "True\n"
     ]
    }
   ],
   "source": [
    "me_llamo_juan = nombre == \"Juan\"\n",
    "print(me_llamo_juan)"
   ]
  },
  {
   "cell_type": "markdown",
   "metadata": {},
   "source": [
    "> En este caso se realiza la prueba lógica ¿el nombre es Juan? (fíjate que es una pregunta, que\n",
    "se responde con True o False) y la respuesta se almacena en la variable me_llamo_juan,\n",
    "que en este caso es cierta.\n"
   ]
  },
  {
   "cell_type": "code",
   "execution_count": 22,
   "metadata": {},
   "outputs": [
    {
     "name": "stdout",
     "output_type": "stream",
     "text": [
      "<class 'bool'>\n"
     ]
    }
   ],
   "source": [
    "print(type(me_llamo_juan))"
   ]
  },
  {
   "cell_type": "markdown",
   "metadata": {},
   "source": [
    "> Y si revisamos el tipo de dato notamos que es Booleano.\n",
    "En conclusión, cada prueba lógica es un tipo de dato Boolean, el cual se puede asignar a\n",
    "una variable (o incluso a una estructura de datos).\n",
    ">\n",
    "> En variados casos, la respuesta a una pregunta se puede responder con varias operaciones\n",
    "lógicas combinadas. Para esto existen los operadores lógicos, los cuales están basados en\n",
    "la lógica proposicional.\n",
    ">\n",
    "> Estos permiten combinar varias pruebas lógicas y dependiendo de los resultados de ellas,\n",
    "entregarán una respuesta final.\n",
    "Los operadores lógicos más comunes son AND, OR y ^ (“o exclusivo”, también llamado\n",
    "XOR).\n"
   ]
  },
  {
   "cell_type": "markdown",
   "metadata": {},
   "source": [
    "> En resumen, AND es Falso a menos que ambos sean verdaderos. OR es verdadero a menos\n",
    "que ambos sean Falsos y ^ es verdadero si A y B tienen distintos resultados.\n"
   ]
  },
  {
   "cell_type": "code",
   "execution_count": 23,
   "metadata": {},
   "outputs": [
    {
     "name": "stdout",
     "output_type": "stream",
     "text": [
      "True\n"
     ]
    }
   ],
   "source": [
    "print(edad > 18 and duracion_pololeo > 0)"
   ]
  },
  {
   "cell_type": "markdown",
   "metadata": {},
   "source": [
    "> Dado que Juan es mayor que 18 y además está pololeando porque lleva más de 3 años,\n",
    "entonces la condición final es True.\n",
    ">\n",
    "> Supongamos que Juan ahora quiere cambiarse de trabajo, y sólo puede postular si tiene una\n",
    "carrera de al menos 6 años o si tiene más de 5 años de experiencia laboral:\n",
    ">\n",
    "* ¿Puede Juan postular?"
   ]
  },
  {
   "cell_type": "code",
   "execution_count": 24,
   "metadata": {},
   "outputs": [
    {
     "name": "stdout",
     "output_type": "stream",
     "text": [
      "True\n"
     ]
    }
   ],
   "source": [
    "print(duracion_uni >= 6 or exp_laboral > 5)"
   ]
  },
  {
   "cell_type": "markdown",
   "metadata": {},
   "source": [
    "> Juan cumple, con solo una de las dos condiciones, debido a que la condición utiliza un OR,\n",
    "cumplir una de las dos condiciones es suficiente.\n",
    ">\n",
    ">Supongamos que Juan ahora quiere postular a un beneficio, solo puede postular si es que\n",
    "cumple un requisito: ser menor a 28 o tener menos de 3 años de experiencia laboral.\n"
   ]
  },
  {
   "cell_type": "code",
   "execution_count": 25,
   "metadata": {},
   "outputs": [
    {
     "name": "stdout",
     "output_type": "stream",
     "text": [
      "True\n"
     ]
    }
   ],
   "source": [
    "menor_28 = edad < 28\n",
    "exp_menor_3 = exp_laboral < 3\n",
    "print(menor_28 ^ exp_menor_3)"
   ]
  },
  {
   "cell_type": "markdown",
   "metadata": {},
   "source": [
    "> Este caso también resulta en verdadero, dado que solo se cumple una de las dos\n",
    "condiciones. Si por alguna razón ambas condiciones se cumplieran esto resultaría en falso.\n",
    ">\n",
    ">En este caso se crearon variables para representar cada condición, esto es solo para\n",
    "demostrar que es posible almacenar condiciones, como se demostró anteriormente.\n"
   ]
  }
 ],
 "metadata": {
  "kernelspec": {
   "display_name": "Python 3.10.5 64-bit",
   "language": "python",
   "name": "python3"
  },
  "language_info": {
   "codemirror_mode": {
    "name": "ipython",
    "version": 3
   },
   "file_extension": ".py",
   "mimetype": "text/x-python",
   "name": "python",
   "nbconvert_exporter": "python",
   "pygments_lexer": "ipython3",
   "version": "3.10.5"
  },
  "orig_nbformat": 4,
  "vscode": {
   "interpreter": {
    "hash": "5fe23d4cdea1a1fdeea398f38169f58ea6e36b10f84ee4017a8f0fee693ee786"
   }
  }
 },
 "nbformat": 4,
 "nbformat_minor": 2
}
