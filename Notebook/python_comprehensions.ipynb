{
 "cells": [
  {
   "cell_type": "markdown",
   "metadata": {},
   "source": [
    "#### Transformando un ciclo for en un Comprehension\n",
    ">Supongamos el siguiente problema: queremos generar los 10 primeros números pares y\n",
    "almacenarlos en una lista:\n"
   ]
  },
  {
   "cell_type": "code",
   "execution_count": 2,
   "metadata": {},
   "outputs": [
    {
     "name": "stdout",
     "output_type": "stream",
     "text": [
      "[2, 4, 6, 8, 10, 12, 14, 16, 18, 20]\n"
     ]
    }
   ],
   "source": [
    "import sys\n",
    "# solicitamos el número de pares a generar\n",
    "n = 10\n",
    "# generamos una lista vacía para almacenar los pares\n",
    "lista_par = []\n",
    "for i in range(n):\n",
    "# podemos hacer append de los valores generados\n",
    "# en este caso partimos desde el 2\n",
    "    lista_par.append(2*i + 2)\n",
    "# mostramos el resultado\n",
    "print(lista_par)"
   ]
  },
  {
   "cell_type": "markdown",
   "metadata": {},
   "source": [
    ">Antes aplicar comprehension veamos la sintaxis a utilizar:\n",
    ">\n",
    ">[fórmula for variable in iterable]\n",
    ">\n",
    ">Esta sintaxis se lee de la siguiente manera:\n",
    ">\n",
    ">Empezamos por el ciclo, entonces, para cada variable en el iterable realiza la fórmula\n",
    "El código, en términos de comprehension se puede escribir de la siguiente manera:\n"
   ]
  },
  {
   "cell_type": "code",
   "execution_count": 3,
   "metadata": {},
   "outputs": [
    {
     "name": "stdout",
     "output_type": "stream",
     "text": [
      "[2, 4, 6, 8, 10, 12, 14, 16, 18, 20]\n"
     ]
    }
   ],
   "source": [
    "lista_par = [2*i + 2 for i in range(n)]\n",
    "print(lista_par)"
   ]
  },
  {
   "cell_type": "markdown",
   "metadata": {},
   "source": [
    ">Se puede ver que en solo dos líneas se obtiene el mismo resultado (de hecho es posible\n",
    "dejarlo sólo en una línea); y lo que acabamos de ver es un List Comprehension, porque el\n",
    "resultado final se almacena en una lista.\n",
    ">\n",
    "> Haciendo la lectura del código [2*i + 2 for i in range(n)] decimos entonces que:\n",
    ">\n",
    ">Para cada i en el rango de n (10) voy a guardar el resultado de la operación 2*i + 2. En la\n",
    "primera iteración como i vale 0 se realizará la multiplicación 2*0 + 2, en la siguiente iteración\n",
    "i vale 1 2*1 +2, en la siguiente i vale 2 2*2 + 2, etc\n",
    ">\n",
    ">Condicionales con List Comprehensions\n",
    ">\n",
    ">Existen otras versiones de un List Comprehension que permiten combinar Control de Flujo\n",
    "condicional con los ciclos for.\n",
    ">\n",
    ">Por ejemplo, supongamos la siguiente lista de valores, donde queremos entregar una lista\n",
    "que nos diga si el número es divisible por dos o no.\n",
    "\n"
   ]
  },
  {
   "cell_type": "code",
   "execution_count": 5,
   "metadata": {},
   "outputs": [
    {
     "name": "stdout",
     "output_type": "stream",
     "text": [
      "['Divisible', 'Divisible', 'No Divisible', 'Divisible', 'No Divisible', 'Divisible', 'No Divisible']\n"
     ]
    }
   ],
   "source": [
    "valores = [0,4,5,6,7,8,9]\n",
    "divisibles = []\n",
    "for valor in valores:\n",
    "    if valor % 2 == 0:\n",
    "        divisibles.append('Divisible')\n",
    "    else:\n",
    "        divisibles.append('No Divisible')\n",
    "print(divisibles)"
   ]
  },
  {
   "cell_type": "markdown",
   "metadata": {},
   "source": [
    "> List comprehensions tiene la siguiente sintaxis que equivale a lo mostrado anteriormente:\n",
    ">\n",
    ">[expresión1 if condición1 else expresión2 for variable in iterable]\n",
    ">\n",
    ">En este caso, si convertimos el código anterior en List comprehension queda de la siguiente\n",
    "manera:\n"
   ]
  },
  {
   "cell_type": "code",
   "execution_count": 6,
   "metadata": {},
   "outputs": [
    {
     "data": {
      "text/plain": [
       "['Divisible',\n",
       " 'Divisible',\n",
       " 'No Divisible',\n",
       " 'Divisible',\n",
       " 'No Divisible',\n",
       " 'Divisible',\n",
       " 'No Divisible']"
      ]
     },
     "execution_count": 6,
     "metadata": {},
     "output_type": "execute_result"
    }
   ],
   "source": [
    "['Divisible' if valor % 2 == 0 else 'No Divisible' for valor in valores]"
   ]
  },
  {
   "cell_type": "markdown",
   "metadata": {},
   "source": [
    ">¿Cómo se lee este código?\n",
    ">\n",
    ">['Divisible' if valor % 2 == 0 else 'No Divisible' for valor in valores ]\n",
    ">\n",
    ">Empezamos con el ciclo, entonces, para cada valor almacenado en nuestra lista de valores,\n",
    "vamos mostrar la palabra ‘Divisible’ si el valor módulo de 2 es igual a 0.\n",
    ">\n",
    ">A continuación, te presentamos un ejercicio a partir del cual podrás poner en práctica lo\n",
    "aprendido siguiendo los pasos anteriormente explicados.\n",
    ">\n",
    "#### Operaciones de Filtrado\n",
    ">\n",
    ">Finalmente, los List Comprehensions pueden ser utilizados para filtrar datos de una lista.\n",
    ">Por ejemplo, contemos la cantidad de datos de esta lista que son string:\n"
   ]
  },
  {
   "cell_type": "code",
   "execution_count": 7,
   "metadata": {},
   "outputs": [
    {
     "name": "stdout",
     "output_type": "stream",
     "text": [
      "3\n"
     ]
    }
   ],
   "source": [
    "lista = ['Lechugas', 'Tomates', 5, 10,\n",
    "True, False, True, 'Papas',\n",
    "5.1, 45.2, 1, 2, 0]\n",
    "count_str = 0\n",
    "for elemento in lista:\n",
    "    if type(elemento) is str:\n",
    "        count_str += 1\n",
    "print(count_str)\n"
   ]
  },
  {
   "cell_type": "markdown",
   "metadata": {},
   "source": [
    "> **NOTA:** En la prueba lógica se utiliza la palabra is, la que sirve para poder detectar\n",
    "si un cierto tipo de dato es el que se espera, en este caso si el tipo del elemento es\n",
    "un str (Un string).\n",
    ">\n",
    ">Es posible utilizar una tercera alternativa de sintaxis de los List Comprehensions:\n",
    ">\n",
    ">[expresión for variable in iterable if condición ]\n",
    ">Esta expresión se aplicará sólo a los valores que cumplan la condición dada. Por ejemplo:\n",
    ">[elemento for elemento in lista if type(elemento) is str ]\n",
    ">\n",
    ">Luego para contar el resultado podemos utilizar la función len(), de manera que el código\n",
    "completo se reduce a lo siguiente:\n"
   ]
  },
  {
   "cell_type": "code",
   "execution_count": 8,
   "metadata": {},
   "outputs": [
    {
     "name": "stdout",
     "output_type": "stream",
     "text": [
      "3\n"
     ]
    }
   ],
   "source": [
    "lst_str = [elemento for elemento in lista if type(elemento) is str ]\n",
    "print(len(lst_str))"
   ]
  },
  {
   "cell_type": "markdown",
   "metadata": {},
   "source": [
    "#### Dictionary Comprehensions\n",
    ">Los Dictionary Comprehensions son la equivalencia en Diccionarios de los Python\n",
    "Comprehensions. Recuerda que los diccionarios son estructuras clave-valor por lo que se\n",
    "debe considerar al momento de iterar"
   ]
  },
  {
   "cell_type": "code",
   "execution_count": 9,
   "metadata": {},
   "outputs": [
    {
     "name": "stdout",
     "output_type": "stream",
     "text": [
      "{'nombre': 'Juan', 'apellido': 'Pérez', 'edad': 33, 'altura': 1.75}\n"
     ]
    }
   ],
   "source": [
    "claves = ['nombre','apellido','edad','altura']\n",
    "valores = ['Juan','Pérez', 33, 1.75]\n",
    "print({k:v for k,v in zip(claves, valores)})"
   ]
  },
  {
   "cell_type": "markdown",
   "metadata": {},
   "source": [
    "> Un dictionary comprehension seguirá exactamente las mismas reglas y estructuras que una\n",
    "List Comprehension pero utilizando llaves ({}) y : como separador entre la clave y el valor.\n",
    ">\n",
    "> **NOTA:** Normalmente, se utilizan las variables k para las claves (key) y v para los\n",
    "valores (value)."
   ]
  }
 ],
 "metadata": {
  "kernelspec": {
   "display_name": "Python 3.10.5 64-bit",
   "language": "python",
   "name": "python3"
  },
  "language_info": {
   "codemirror_mode": {
    "name": "ipython",
    "version": 3
   },
   "file_extension": ".py",
   "mimetype": "text/x-python",
   "name": "python",
   "nbconvert_exporter": "python",
   "pygments_lexer": "ipython3",
   "version": "3.10.5"
  },
  "orig_nbformat": 4,
  "vscode": {
   "interpreter": {
    "hash": "5fe23d4cdea1a1fdeea398f38169f58ea6e36b10f84ee4017a8f0fee693ee786"
   }
  }
 },
 "nbformat": 4,
 "nbformat_minor": 2
}
